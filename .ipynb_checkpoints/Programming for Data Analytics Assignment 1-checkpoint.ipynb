{
 "cells": [
  {
   "cell_type": "markdown",
   "metadata": {},
   "source": [
    "# PROGRAMMING FOR DATA ANALYTICS ASSIGNMENT 1: THE *NUMPY.RANDOM* PYTHON PACKAGE"
   ]
  },
  {
   "cell_type": "markdown",
   "metadata": {},
   "source": [
    "## BACKGROUND"
   ]
  },
  {
   "cell_type": "markdown",
   "metadata": {},
   "source": [
    "The *numpy.random* Python package is a module within the numpy library which generates arrays of sample values from many kinds of probability distributions. [Python for Data Analysis, Wes McKinney, O'Reilly,2018] "
   ]
  },
  {
   "cell_type": "markdown",
   "metadata": {},
   "source": [
    "## SIMPLE RANDOM DATA FUNCTION"
   ]
  },
  {
   "cell_type": "markdown",
   "metadata": {},
   "source": [
    "The *Simple Random Data* function generates random numbers of different types such as various shaped arrays, normally distributed arrays, ranges of floats of differing parameters such as the range, dimensions and probabilities of the returned values."
   ]
  },
  {
   "cell_type": "markdown",
   "metadata": {},
   "source": [
    "**The following lines of code demonstrate the usefulness of the *random.rand* function to generate random numbers between 0 and 1 and how this data can then be manipulated plotted and visualised.**"
   ]
  },
  {
   "cell_type": "code",
   "execution_count": 111,
   "metadata": {
    "scrolled": true
   },
   "outputs": [
    {
     "data": {
      "text/plain": [
       "array([[7.94014063e-01, 6.30458332e-01],\n",
       "       [2.76957231e-01, 7.67053076e-02],\n",
       "       [6.84034528e-01, 4.67903236e-01],\n",
       "       [4.90728135e-01, 2.40814102e-01],\n",
       "       [3.33472491e-01, 1.11203902e-01],\n",
       "       [8.05083198e-01, 6.48158956e-01],\n",
       "       [4.89581225e-01, 2.39689776e-01],\n",
       "       [3.53164064e-01, 1.24724856e-01],\n",
       "       [3.77633252e-01, 1.42606873e-01],\n",
       "       [5.23803209e-01, 2.74369801e-01],\n",
       "       [4.56992030e-01, 2.08841716e-01],\n",
       "       [4.69557340e-02, 2.20484095e-03],\n",
       "       [2.11812148e-01, 4.48643862e-02],\n",
       "       [2.65534615e-01, 7.05086320e-02],\n",
       "       [7.01405347e-01, 4.91969460e-01],\n",
       "       [2.09864167e-01, 4.40429685e-02],\n",
       "       [8.97222244e-01, 8.05007756e-01],\n",
       "       [1.48088392e-01, 2.19301718e-02],\n",
       "       [6.98376078e-01, 4.87729146e-01],\n",
       "       [8.90224694e-01, 7.92500006e-01],\n",
       "       [5.51198107e-01, 3.03819353e-01],\n",
       "       [5.09682198e-01, 2.59775943e-01],\n",
       "       [6.89260744e-01, 4.75080373e-01],\n",
       "       [6.21323425e-01, 3.86042799e-01],\n",
       "       [7.99023008e-01, 6.38437767e-01],\n",
       "       [7.57650453e-01, 5.74034209e-01],\n",
       "       [6.38948860e-02, 4.08255645e-03],\n",
       "       [6.71687651e-01, 4.51164301e-01],\n",
       "       [6.79380801e-01, 4.61558273e-01],\n",
       "       [1.11442286e-01, 1.24193831e-02],\n",
       "       [6.94154269e-01, 4.81850150e-01],\n",
       "       [4.35210298e-01, 1.89408003e-01],\n",
       "       [6.91772613e-01, 4.78549347e-01],\n",
       "       [2.21889683e-01, 4.92350316e-02],\n",
       "       [5.94596597e-02, 3.53545113e-03],\n",
       "       [8.70420835e-01, 7.57632430e-01],\n",
       "       [1.09241114e-01, 1.19336209e-02],\n",
       "       [9.12699387e-01, 8.33020172e-01],\n",
       "       [6.51569155e-01, 4.24542364e-01],\n",
       "       [7.57142644e-01, 5.73264983e-01],\n",
       "       [1.95008720e-01, 3.80284011e-02],\n",
       "       [4.01971714e-01, 1.61581259e-01],\n",
       "       [4.68244580e-01, 2.19252987e-01],\n",
       "       [3.18583118e-01, 1.01495203e-01],\n",
       "       [4.74997355e-01, 2.25622488e-01],\n",
       "       [4.48566639e-01, 2.01212030e-01],\n",
       "       [9.24535483e-02, 8.54765860e-03],\n",
       "       [3.24755919e-01, 1.05466407e-01],\n",
       "       [6.65575681e-01, 4.42990987e-01],\n",
       "       [6.51388781e-01, 4.24307344e-01],\n",
       "       [4.18380040e-01, 1.75041858e-01],\n",
       "       [3.45562946e-01, 1.19413750e-01],\n",
       "       [3.95025775e-01, 1.56045363e-01],\n",
       "       [9.54598340e-01, 9.11257990e-01],\n",
       "       [5.47275293e-01, 2.99510246e-01],\n",
       "       [8.38414466e-03, 7.02938817e-05],\n",
       "       [3.98834905e-01, 1.59069281e-01],\n",
       "       [1.92002399e-01, 3.68649210e-02],\n",
       "       [6.03736974e-01, 3.64498334e-01],\n",
       "       [6.24134423e-01, 3.89543778e-01],\n",
       "       [7.65795740e-01, 5.86443116e-01],\n",
       "       [2.09500014e-01, 4.38902559e-02],\n",
       "       [8.73897542e-01, 7.63696914e-01],\n",
       "       [5.01567558e-01, 2.51570015e-01],\n",
       "       [4.39168067e-01, 1.92868591e-01],\n",
       "       [7.00343902e-02, 4.90481581e-03],\n",
       "       [1.27653496e-01, 1.62954150e-02],\n",
       "       [5.00908297e-01, 2.50909122e-01],\n",
       "       [7.15153287e-02, 5.11444224e-03],\n",
       "       [1.57303745e-01, 2.47444681e-02],\n",
       "       [4.81631110e-01, 2.31968526e-01],\n",
       "       [6.49248054e-01, 4.21523036e-01],\n",
       "       [5.89595702e-02, 3.47623091e-03],\n",
       "       [1.77267054e-01, 3.14236085e-02],\n",
       "       [7.38722312e-01, 5.45710654e-01],\n",
       "       [3.06666044e-01, 9.40440622e-02],\n",
       "       [7.45130733e-01, 5.55219810e-01],\n",
       "       [5.18578394e-01, 2.68923551e-01],\n",
       "       [5.56886695e-01, 3.10122791e-01],\n",
       "       [3.02586543e-01, 9.15586162e-02],\n",
       "       [5.37706986e-01, 2.89128803e-01],\n",
       "       [1.75828727e-01, 3.09157411e-02],\n",
       "       [8.26139734e-01, 6.82506860e-01],\n",
       "       [3.32404871e-01, 1.10492998e-01],\n",
       "       [7.38924141e-01, 5.46008886e-01],\n",
       "       [2.66618894e-01, 7.10856344e-02],\n",
       "       [2.43046417e-01, 5.90715607e-02],\n",
       "       [7.36611059e-01, 5.42595853e-01],\n",
       "       [2.48391972e-01, 6.16985717e-02],\n",
       "       [9.70339290e-01, 9.41558338e-01],\n",
       "       [2.22137044e-01, 4.93448663e-02],\n",
       "       [3.47507685e-01, 1.20761591e-01],\n",
       "       [2.07590241e-01, 4.30937083e-02],\n",
       "       [2.97364085e-01, 8.84253992e-02],\n",
       "       [2.75804856e-02, 7.60683186e-04],\n",
       "       [9.04075149e-01, 8.17351874e-01],\n",
       "       [9.06565252e-01, 8.21860556e-01],\n",
       "       [4.38730977e-01, 1.92484870e-01],\n",
       "       [8.54395614e-01, 7.29991865e-01],\n",
       "       [2.15888378e-01, 4.66077919e-02]])"
      ]
     },
     "execution_count": 111,
     "metadata": {},
     "output_type": "execute_result"
    }
   ],
   "source": [
    "#numpy.random.rand(d0, d1, ..., dn) function example\n",
    "#returns array of random floats between 0 and 1 of shape (d0 to dn)\n",
    "import numpy as np #import numpy package\n",
    "import matplotlib.pyplot as plt\n",
    "import math as mt\n",
    "import pandas as pd\n",
    "%matplotlib inline\n",
    "R1 = np.random.rand(100,1) #return 5x5 random array\n",
    "R2 = R1*R1 #create an array of R1 Squared\n",
    "DF = np.hstack((R1,R2)) #Create a dataframe of R1 and R2\n",
    "DF\n"
   ]
  },
  {
   "cell_type": "code",
   "execution_count": 112,
   "metadata": {
    "scrolled": true
   },
   "outputs": [
    {
     "data": {
      "text/plain": [
       "Text(0.5,1,'Random.rand function plotted vs its square')"
      ]
     },
     "execution_count": 112,
     "metadata": {},
     "output_type": "execute_result"
    },
    {
     "data": {
      "image/png": "[encoded data removed]",
      "text/plain": [
       "<matplotlib.figure.Figure at 0x11a967cb2b0>"
      ]
     },
     "metadata": {
      "needs_background": "light"
     },
     "output_type": "display_data"
    }
   ],
   "source": [
    "plt.scatter(DF[:,0],DF[:,1]) #Plot of R1 against its square:R2\n",
    "plt.title(\"Random.rand function plotted vs its square\")"
   ]
  },
  {
   "cell_type": "markdown",
   "metadata": {},
   "source": [
    "## PERMUTATIONS FUNCTIONS"
   ]
  },
  {
   "cell_type": "markdown",
   "metadata": {},
   "source": [
    "The *Permutations* functions, *shuffle* and *permutation* both generate random numbers with the shuffle function changing the order of a given set of inputs. The permutation function will create a random sequence of numbers given an input length. "
   ]
  },
  {
   "cell_type": "markdown",
   "metadata": {},
   "source": [
    "**The following code creates a lotto draw using the *shuffle* function"
   ]
  },
  {
   "cell_type": "code",
   "execution_count": 225,
   "metadata": {},
   "outputs": [
    {
     "name": "stdout",
     "output_type": "stream",
     "text": [
      "[[18 19 20 21 22 23]\n",
      " [30 31 32 33 34 35]\n",
      " [12 13 14 15 16 17]\n",
      " [24 25 26 27 28 29]\n",
      " [36 37 38 39 40 41]\n",
      " [ 6  7  8  9 10 11]\n",
      " [ 0  1  2  3  4  5]] **Are tonights Lotto numbers**\n"
     ]
    }
   ],
   "source": [
    "### *Shuffle* Function\n",
    "lotto = np.arange(42).reshape(7,6) #creates a 6 x 7 array\n",
    "np.random.shuffle(lotto) # shuffles the array\n",
    "numbers = np.array(lotto) #picks the first row\n",
    "#error: need to output one random row of 6 numbers\n",
    "print(numbers,'**Are tonights Lotto numbers**')\n",
    "\n"
   ]
  }
 ],
 "metadata": {
  "kernelspec": {
   "display_name": "Python 3",
   "language": "python",
   "name": "python3"
  },
  "language_info": {
   "codemirror_mode": {
    "name": "ipython",
    "version": 3
   },
   "file_extension": ".py",
   "mimetype": "text/x-python",
   "name": "python",
   "nbconvert_exporter": "python",
   "pygments_lexer": "ipython3",
   "version": "3.6.6"
  }
 },
 "nbformat": 4,
 "nbformat_minor": 2
}
