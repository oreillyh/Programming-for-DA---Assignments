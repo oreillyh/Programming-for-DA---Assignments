{
 "cells": [
  {
   "cell_type": "markdown",
   "metadata": {},
   "source": [
    "# PROGRAMMING FOR DATA ANALYTICS ASSIGNMENT 1: THE *NUMPY.RANDOM* PYTHON PACKAGE"
   ]
  },
  {
   "cell_type": "markdown",
   "metadata": {},
   "source": [
    "## BACKGROUND"
   ]
  },
  {
   "cell_type": "markdown",
   "metadata": {},
   "source": [
    "The *numpy.random* Python package is a module within the numpy library which generates arrays of sample values from many kinds of probability distributions. [Python for Data Analysis, Wes McKinney, O'Reilly,2018] "
   ]
  },
  {
   "cell_type": "markdown",
   "metadata": {},
   "source": [
    "## SIMPLE RANDOM DATA FUNCTION"
   ]
  },
  {
   "cell_type": "markdown",
   "metadata": {},
   "source": [
    "The *Simple Random Data* function generates random numbers of different types such as various shaped arrays, normally distributed arrays, ranges of floats of differing parameters such as the range, dimensions and probabilities of the returned values."
   ]
  },
  {
   "cell_type": "markdown",
   "metadata": {},
   "source": [
    "**The following lines of code demonstrate the usefulness of the *random.rand* function to generate random numbers between 0 and 1 and how this data can then be manipulated plotted and visualised.**"
   ]
  },
  {
   "cell_type": "code",
   "execution_count": 3,
   "metadata": {
    "scrolled": true
   },
   "outputs": [
    {
     "data": {
      "text/plain": [
       "Text(0.5,1,'plot of 100 random floats ')"
      ]
     },
     "execution_count": 3,
     "metadata": {},
     "output_type": "execute_result"
    },
    {
     "data": {
      "image/png": "[encoded data removed]",
      "text/plain": [
       "<matplotlib.figure.Figure at 0x1e8ab0cf8d0>"
      ]
     },
     "metadata": {
      "needs_background": "light"
     },
     "output_type": "display_data"
    }
   ],
   "source": [
    "#numpy.random.rand(d0, d1, ..., dn) function example\n",
    "#returns array of random floats between 0 and 1 of shape (d0 to dn)\n",
    "import numpy as np #import numpy package\n",
    "import matplotlib.pyplot as plt\n",
    "import scipy as sc\n",
    "import statistics as st\n",
    "import math as mt\n",
    "import pandas as pd\n",
    "%matplotlib inline\n",
    "R1 = np.random.rand(100,1) #return 100 x 1 random array of floats between 0 and (not including) 1\n",
    "x = np.arange(100) #create a list 0f 1 to 100 in order to plot the random no's created against in a scatter plot\n",
    "plt.scatter(x,R1)\n",
    "plt.title(\"plot of 100 random floats \")"
   ]
  },
  {
   "cell_type": "markdown",
   "metadata": {},
   "source": [
    "**Plot of the random array against its square (just for fun)**"
   ]
  },
  {
   "cell_type": "code",
   "execution_count": 4,
   "metadata": {
    "scrolled": false
   },
   "outputs": [
    {
     "data": {
      "text/plain": [
       "Text(0.5,1,'Random.rand function plotted vs its square')"
      ]
     },
     "execution_count": 4,
     "metadata": {},
     "output_type": "execute_result"
    },
    {
     "data": {
      "image/png": "[encoded data removed]",
      "text/plain": [
       "<matplotlib.figure.Figure at 0x1e8ab0cada0>"
      ]
     },
     "metadata": {
      "needs_background": "light"
     },
     "output_type": "display_data"
    }
   ],
   "source": [
    "R1 = np.random.rand(100,1) #return 5x5 random array\n",
    "R2 = R1*R1 #create an array of R1 Squared\n",
    "DF = np.hstack((R1,R2)) #Create a dataframe of R1 and R2\n",
    "plt.scatter(DF[:,0],DF[:,1]) #Plot of R1 against its square:R2\n",
    "plt.title(\"Random.rand function plotted vs its square\")"
   ]
  },
  {
   "cell_type": "markdown",
   "metadata": {},
   "source": [
    "**Some summary statistics of our random numbers**"
   ]
  },
  {
   "cell_type": "code",
   "execution_count": 5,
   "metadata": {
    "scrolled": true
   },
   "outputs": [
    {
     "name": "stdout",
     "output_type": "stream",
     "text": [
      "Minumum = 0.009638068975251102\n",
      "Maximum = 0.9914473929232954\n",
      "Mean =  0.4843342167821755\n",
      "Variance = 0.08296532319516463\n"
     ]
    }
   ],
   "source": [
    "z = np.array(R1)\n",
    "print('Minumum =', z.min())   \n",
    "print('Maximum =', z.max())   \n",
    "print('Mean = ', z.mean())  \n",
    "print('Variance =', z.var())\n"
   ]
  },
  {
   "cell_type": "markdown",
   "metadata": {},
   "source": [
    "## PERMUTATIONS FUNCTIONS"
   ]
  },
  {
   "cell_type": "markdown",
   "metadata": {},
   "source": [
    "The *Permutations* functions, *shuffle* and *permutation* both generate random numbers with the shuffle function changing the order of a given set of inputs. The permutation function will create a random sequence of numbers given an input length. "
   ]
  },
  {
   "cell_type": "markdown",
   "metadata": {},
   "source": [
    "**The following code creates a lotto draw using the *shuffle* function**"
   ]
  },
  {
   "cell_type": "code",
   "execution_count": 6,
   "metadata": {
    "scrolled": true
   },
   "outputs": [
    {
     "data": {
      "text/plain": [
       "('The lotto numbers are', array([29, 27,  8, 20, 37, 11]))"
      ]
     },
     "execution_count": 6,
     "metadata": {},
     "output_type": "execute_result"
    }
   ],
   "source": [
    "#Shuffle Function\n",
    "i = list(range(1, 43)) #create a list of 42 numbers\n",
    "x = np.array(i) #convert to a numpy array\n",
    "np.random.shuffle(x) #shuffle the numbers\n",
    "x\n",
    "draw = x[0:6] #output first 6 random numbers\n",
    "'The lotto numbers are', draw # dispay the lotto numbers\n",
    "\n"
   ]
  },
  {
   "cell_type": "markdown",
   "metadata": {},
   "source": [
    "**Example of the use of the *permutation* function to create a random password**"
   ]
  },
  {
   "cell_type": "code",
   "execution_count": 9,
   "metadata": {
    "scrolled": true
   },
   "outputs": [
    {
     "name": "stdout",
     "output_type": "stream",
     "text": [
      "Password is = ['I' 'T' 'H' 'K' 'V' 'E']\n"
     ]
    }
   ],
   "source": [
    "#Permutation Function\n",
    "\n",
    "#A small example of how the permutation function can be used to generate a random password\n",
    "Letters = np.array(['A', 'B', 'C', 'D', 'E', 'F', 'G', 'H', 'I', 'J', 'K', 'L', 'M', 'N', 'O', 'P', 'Q', 'R', 'S', 'T', 'U', 'V', 'X', 'Y', 'Z'])\n",
    "Order = np.random.permutation(Letters)\n",
    "print('Password is =', Order[1:7])\n"
   ]
  },
  {
   "cell_type": "markdown",
   "metadata": {},
   "source": [
    "The above examples of *shuffle* and *permutation* functions show practical uses for these functions. In particular it can be seen where there would be scope to use these functions as part of larger programs used for encryption and password management"
   ]
  },
  {
   "cell_type": "markdown",
   "metadata": {},
   "source": [
    "## DISTRIBUTIONS FUNCTIONS"
   ]
  },
  {
   "cell_type": "markdown",
   "metadata": {},
   "source": [
    "## The Poisson Distribution\n",
    "\n",
    "The Poisson Distribution is a probability distribution which can be described as the probability of events occuring at regular intervals of which the events are independent of eachother. An example would be the number of decays per second of a radioactive source where the average number of decays per unit time is known.\n",
    "\n",
    "If the mean number of counts in the interval is $$\\lambda$$ > 0 , the random variable X that equals the number of counts in the interval has a **Poisson Distribution** with parameter $$\\lambda$$, and the probability mass function of X is\n",
    "\n",
    "$$f(x) = \\frac{{e^-\\lambda}{\\lambda^x}}{x!}$$, x = 0,1,2,...\n",
    "\n",
    "*References* [https://en.wikipedia.org/wiki/Poisson_distribution], [Applied Statistics and Probability for Engineers, Montgomery; D.C.; Runger; G.C.]"
   ]
  },
  {
   "cell_type": "code",
   "execution_count": 12,
   "metadata": {},
   "outputs": [
    {
     "data": {
      "text/plain": [
       "[<matplotlib.lines.Line2D at 0x290ed21c240>]"
      ]
     },
     "execution_count": 12,
     "metadata": {},
     "output_type": "execute_result"
    },
    {
     "data": {
      "image/png": "[encoded data removed]",
      "text/plain": [
       "<matplotlib.figure.Figure at 0x290ed130630>"
      ]
     },
     "metadata": {
      "needs_background": "light"
     },
     "output_type": "display_data"
    }
   ],
   "source": [
    "%matplotlib inline\n",
    "import numpy as np\n",
    "import matplotlib.pyplot as plt\n",
    "P = np.random.poisson(5, 12)\n",
    "\n",
    "plt.plot(P)"
   ]
  }
 ],
 "metadata": {
  "kernelspec": {
   "display_name": "Python 3",
   "language": "python",
   "name": "python3"
  },
  "language_info": {
   "codemirror_mode": {
    "name": "ipython",
    "version": 3
   },
   "file_extension": ".py",
   "mimetype": "text/x-python",
   "name": "python",
   "nbconvert_exporter": "python",
   "pygments_lexer": "ipython3",
   "version": "3.6.6"
  }
 },
 "nbformat": 4,
 "nbformat_minor": 2
}
