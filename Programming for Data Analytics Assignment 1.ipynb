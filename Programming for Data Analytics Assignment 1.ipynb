{
 "cells": [
  {
   "cell_type": "markdown",
   "metadata": {},
   "source": [
    "# PROGRAMMING FOR DATA ANALYTICS ASSIGNMENT 1:</p> \n",
    "\n",
    "# THE *NUMPY.RANDOM* PYTHON PACKAGE"
   ]
  },
  {
   "cell_type": "markdown",
   "metadata": {},
   "source": [
    "## BACKGROUND"
   ]
  },
  {
   "cell_type": "markdown",
   "metadata": {},
   "source": [
    "The *numpy.random* Python package is a module within the numpy library which generates arrays of sample values from many kinds of probability distributions. [Python for Data Analysis, Wes McKinney, O'Reilly,2018] "
   ]
  },
  {
   "cell_type": "markdown",
   "metadata": {},
   "source": [
    "## SIMPLE RANDOM DATA FUNCTION"
   ]
  },
  {
   "cell_type": "markdown",
   "metadata": {},
   "source": [
    "The *Simple Random Data* function generates random numbers of different types such as various shaped arrays, normally distributed arrays, ranges of floats of differing parameters such as the range, dimensions and probabilities of the returned values."
   ]
  },
  {
   "cell_type": "markdown",
   "metadata": {},
   "source": [
    "**The following lines of code demonstrate the usefulness of the *random.rand* function to generate random numbers between 0 and 1 and how this data can then be manipulated plotted and visualised.**"
   ]
  },
  {
   "cell_type": "code",
   "execution_count": 19,
   "metadata": {
    "scrolled": true
   },
   "outputs": [
    {
     "data": {
      "text/plain": [
       "Text(0.5,1,'plot of 100 random floats ')"
      ]
     },
     "execution_count": 19,
     "metadata": {},
     "output_type": "execute_result"
    },
    {
     "data": {
      "image/png": "[encoded data removed]",
      "text/plain": [
       "<matplotlib.figure.Figure at 0x263c0866860>"
      ]
     },
     "metadata": {
      "needs_background": "light"
     },
     "output_type": "display_data"
    }
   ],
   "source": [
    "#numpy.random.rand(d0, d1, ..., dn) function example\n",
    "#returns array of random floats between 0 and 1 of shape (d0 to dn)\n",
    "import numpy as np #import numpy package\n",
    "import matplotlib.pyplot as plt\n",
    "import scipy as sc\n",
    "import statistics as st\n",
    "import math as mt\n",
    "import pandas as pd\n",
    "%matplotlib inline\n",
    "R1 = np.random.rand(100,1) #return 100 x 1 random array of floats between 0 and (not including) 1\n",
    "x = np.arange(100) #create a list 0f 1 to 100 in order to plot the random no's created against in a scatter plot\n",
    "plt.scatter(x,R1)\n",
    "plt.title(\"plot of 100 random floats \")"
   ]
  },
  {
   "cell_type": "markdown",
   "metadata": {},
   "source": [
    "**Plot of the random array against its square (just for fun)**"
   ]
  },
  {
   "cell_type": "code",
   "execution_count": 20,
   "metadata": {
    "scrolled": false
   },
   "outputs": [
    {
     "data": {
      "text/plain": [
       "Text(0.5,1,'Random.rand function plotted vs its square')"
      ]
     },
     "execution_count": 20,
     "metadata": {},
     "output_type": "execute_result"
    },
    {
     "data": {
      "image/png": "[encoded data removed]",
      "text/plain": [
       "<matplotlib.figure.Figure at 0x263c0c001d0>"
      ]
     },
     "metadata": {
      "needs_background": "light"
     },
     "output_type": "display_data"
    }
   ],
   "source": [
    "R1 = np.random.rand(100,1) #return 5x5 random array\n",
    "R2 = R1*R1 #create an array of R1 Squared\n",
    "DF = np.hstack((R1,R2)) #Create a dataframe of R1 and R2\n",
    "plt.scatter(DF[:,0],DF[:,1]) #Plot of R1 against its square:R2\n",
    "plt.title(\"Random.rand function plotted vs its square\")"
   ]
  },
  {
   "cell_type": "markdown",
   "metadata": {},
   "source": [
    "**Some summary statistics of our random numbers**"
   ]
  },
  {
   "cell_type": "code",
   "execution_count": 21,
   "metadata": {
    "scrolled": true
   },
   "outputs": [
    {
     "name": "stdout",
     "output_type": "stream",
     "text": [
      "Minumum = 0.00715564139918301\n",
      "Maximum = 0.9917859625361135\n",
      "Mean =  0.4882243601165272\n",
      "Variance = 0.07612120720842644\n"
     ]
    }
   ],
   "source": [
    "z = np.array(R1)\n",
    "print('Minumum =', z.min())   \n",
    "print('Maximum =', z.max())   \n",
    "print('Mean = ', z.mean())  \n",
    "print('Variance =', z.var())\n"
   ]
  },
  {
   "cell_type": "markdown",
   "metadata": {},
   "source": [
    "## PERMUTATIONS FUNCTIONS"
   ]
  },
  {
   "cell_type": "markdown",
   "metadata": {},
   "source": [
    "The *Permutations* functions, *shuffle* and *permutation* both generate random numbers with the shuffle function changing the order of a given set of inputs. The permutation function will create a random sequence of numbers given an input length. "
   ]
  },
  {
   "cell_type": "markdown",
   "metadata": {},
   "source": [
    "**The following code creates a lotto draw using the *shuffle* function**"
   ]
  },
  {
   "cell_type": "code",
   "execution_count": 22,
   "metadata": {
    "scrolled": true
   },
   "outputs": [
    {
     "data": {
      "text/plain": [
       "('The lotto numbers are', array([24,  5, 18, 38, 34, 35]))"
      ]
     },
     "execution_count": 22,
     "metadata": {},
     "output_type": "execute_result"
    }
   ],
   "source": [
    "#Shuffle Function\n",
    "i = list(range(1, 43)) #create a list of 42 numbers\n",
    "x = np.array(i) #convert to a numpy array\n",
    "np.random.shuffle(x) #shuffle the numbers\n",
    "x\n",
    "draw = x[0:6] #output first 6 random numbers\n",
    "'The lotto numbers are', draw # dispay the lotto numbers\n",
    "\n"
   ]
  },
  {
   "cell_type": "markdown",
   "metadata": {},
   "source": [
    "**Example of the use of the *permutation* function to create a random password**"
   ]
  },
  {
   "cell_type": "code",
   "execution_count": 23,
   "metadata": {
    "scrolled": true
   },
   "outputs": [
    {
     "name": "stdout",
     "output_type": "stream",
     "text": [
      "Password is = ['R' 'Z' 'D' 'T' 'X' 'M']\n"
     ]
    }
   ],
   "source": [
    "#Permutation Function\n",
    "\n",
    "#A small example of how the permutation function can be used to generate a random password\n",
    "Letters = np.array(['A', 'B', 'C', 'D', 'E', 'F', 'G', 'H', 'I', 'J', 'K', 'L', 'M', 'N', 'O', 'P', 'Q', 'R', 'S', 'T', 'U', 'V', 'X', 'Y', 'Z'])\n",
    "Order = np.random.permutation(Letters)\n",
    "print('Password is =', Order[1:7])\n"
   ]
  },
  {
   "cell_type": "markdown",
   "metadata": {},
   "source": [
    "The above examples of *shuffle* and *permutation* functions show practical uses for these functions. In particular it can be seen where there would be scope to use these functions as part of larger programs used for encryption and password management"
   ]
  },
  {
   "cell_type": "markdown",
   "metadata": {},
   "source": [
    "## DISTRIBUTIONS FUNCTIONS"
   ]
  },
  {
   "cell_type": "markdown",
   "metadata": {},
   "source": [
    "## The Poisson Distribution\n",
    "\n",
    "The *numpy.random.poisson* function creates a Poisson Distribution is a probability distribution which can be described as the probability of events occuring at regular intervals of which the events are independent of eachother. An example would be the number of decays per second of a radioactive source where the average number of decays per unit time is known.\n",
    "\n",
    "*Definition*: If the mean number of counts in the interval is $\\lambda$ > 0 , the random variable X that equals the number of counts (events) in the interval has a **Poisson Distribution** with parameter $\\lambda$, and the probability mass function of x is\n",
    "\n",
    "$$ f(x) = \\frac{{\\mathrm e^{-\\lambda} \\lambda^x}}{x!} $$, x = 0,1,2,... and where *e* is the base of the natural log e and is 2.71828\n",
    "\n",
    "*References* [https://en.wikipedia.org/wiki/Poisson_distribution], [Applied Statistics and Probability for Engineers, Montgomery; D.C.; Runger; G.C.]"
   ]
  },
  {
   "cell_type": "code",
   "execution_count": 24,
   "metadata": {
    "scrolled": true
   },
   "outputs": [
    {
     "name": "stderr",
     "output_type": "stream",
     "text": [
      "C:\\Users\\hugh_\\Anaconda3\\lib\\site-packages\\scipy\\stats\\stats.py:1713: FutureWarning: Using a non-tuple sequence for multidimensional indexing is deprecated; use `arr[tuple(seq)]` instead of `arr[seq]`. In the future this will be interpreted as an array index, `arr[np.array(seq)]`, which will result either in an error or a different result.\n",
      "  return np.add.reduce(sorted[indexer] * weights, axis=axis) / sumval\n"
     ]
    },
    {
     "data": {
      "text/plain": [
       "Text(0,0.5,'f(x)')"
      ]
     },
     "execution_count": 24,
     "metadata": {},
     "output_type": "execute_result"
    },
    {
     "data": {
      "image/png": "[encoded data removed]",
      "text/plain": [
       "<matplotlib.figure.Figure at 0x263c0cc2400>"
      ]
     },
     "metadata": {
      "needs_background": "light"
     },
     "output_type": "display_data"
    }
   ],
   "source": [
    "# The poisson Distribution\n",
    "import seaborn as sns\n",
    "P = np.random.poisson(5, 10000) #plots a Poisson Distribution of interval = 5 and size = 12\n",
    "ax = sns.distplot(P, color = 'y',) #The 'distplot' seaborn function plots a univariate distribution of observations and combines a hist plot with a probability density (seaborn.kdeplot) plot\n",
    "plt.title('Poisson Distribution')\n",
    "plt.xlabel('x variables')\n",
    "plt.ylabel('f(x)')\n"
   ]
  },
  {
   "cell_type": "markdown",
   "metadata": {},
   "source": [
    "**It can be seen from the above plot that the probability of events (f(x)) is highest as we approach the point where the actual number of events (5) equals the average number of events in the above example. In this way the distribution provides both a numerical AND graphical way to understand the probabilities of events occuring given their known average per discrete times**"
   ]
  },
  {
   "cell_type": "markdown",
   "metadata": {},
   "source": [
    "Example of  a poisson distribution of distance vs gamma ray counts *ref*[https://lexieslogofphysics.wordpress.com/2013/05/08/poisson-statistics-and-radioactive-decay/]\n",
    "\n",
    "![img](https://lexieslogofphysics.files.wordpress.com/2013/05/51.jpg)"
   ]
  },
  {
   "cell_type": "markdown",
   "metadata": {},
   "source": [
    "## The Exponential Distribution"
   ]
  },
  {
   "cell_type": "markdown",
   "metadata": {},
   "source": [
    "The *numpy.random.exponential* function creates a random exponential distribution. The *Exponential Distribution* is related to the *Poisson Distribution* from the perspective that the poisson distribution measures the probability of occurences (at regular intervals) wheeas the exponential distribution is related to the cumulative interval of those occurences. Examples of the use of the Exponential function include Reliability Engineering where the exponential distribution is used to model the behavior of units that have a constant failure rate (or units that do not degrade with time or wear out). *Ref* [http://reliawiki.org/index.php/The_Exponential_Distribution]\n",
    "\n",
    "*Definition*. The random variable X that equals the distance between successive counts of a Poisson process with mean $\\lambda >0$ has an **exponential distribution** with parameter $\\lambda$ The probability density function of X is:\n",
    "\n",
    "$$f(x) = {\\lambda e^{-\\lambda x}}$$ for $$ 0 <=x>= \\infty $$\n",
    "\n",
    "### **Use of Exponential Function in Reliability Engineering**\n",
    "\n",
    "![img](http://reliawiki.org/images/6/65/Effect_of_upsilon.png)"
   ]
  },
  {
   "cell_type": "markdown",
   "metadata": {},
   "source": [
    "The above graphic of an exponential reliability function shows how the reliability function (y axis) decreases with time. The $\\Upsilon$ value is a unique variable used in Reliability Engineering to indicate the expected time of failure. (A machine is not likely to fail at T=0). This can be seen in the black line where the $\\Upsilon$ value is 2500 *Ref*[http://reliawiki.org/index.php/The_Exponential_Distribution]"
   ]
  },
  {
   "cell_type": "code",
   "execution_count": 25,
   "metadata": {
    "scrolled": true
   },
   "outputs": [
    {
     "name": "stderr",
     "output_type": "stream",
     "text": [
      "C:\\Users\\hugh_\\Anaconda3\\lib\\site-packages\\scipy\\stats\\stats.py:1713: FutureWarning: Using a non-tuple sequence for multidimensional indexing is deprecated; use `arr[tuple(seq)]` instead of `arr[seq]`. In the future this will be interpreted as an array index, `arr[np.array(seq)]`, which will result either in an error or a different result.\n",
      "  return np.add.reduce(sorted[indexer] * weights, axis=axis) / sumval\n"
     ]
    },
    {
     "data": {
      "text/plain": [
       "Text(0,0.5,'f(x)')"
      ]
     },
     "execution_count": 25,
     "metadata": {},
     "output_type": "execute_result"
    },
    {
     "data": {
      "image/png": "[encoded data removed]",
      "text/plain": [
       "<matplotlib.figure.Figure at 0x263c0bfa748>"
      ]
     },
     "metadata": {
      "needs_background": "light"
     },
     "output_type": "display_data"
    }
   ],
   "source": [
    "#The Exponential Distribution\n",
    "Q = np.random.exponential(5,10000)\n",
    "ax = sns.distplot(Q, color = 'g',) #The 'distplot' seaborn function plots a univariate distribution of observations and combines a hist plot with a probability density (seaborn.kdeplot) plot\n",
    "plt.title('Exponential Distribution')\n",
    "plt.xlabel('x variables')\n",
    "plt.ylabel('f(x)')"
   ]
  },
  {
   "cell_type": "markdown",
   "metadata": {},
   "source": [
    "## The Log Normal Distribution"
   ]
  },
  {
   "cell_type": "markdown",
   "metadata": {},
   "source": [
    "The *numpy.random.lognormal(mean=0.0, sigma=1.0, size=None)* distribution creates a random distribution of the log of a normal distribution, with a specified mean, sd and size. The mean, sd and size are derived from the normal distribution from which the log normal random distribution is created.\n",
    "\n"
   ]
  },
  {
   "cell_type": "markdown",
   "metadata": {},
   "source": [
    "The probability density function of the log normal distribution is defined as:\n",
    "\n",
    "$$p(x) = \\frac{1}{\\sigma x \\sqrt{2\\pi}} e^{(-\\frac{(ln(x)-\\mu)^2}{2\\sigma^2})}$$\n",
    "\n",
    "where: $\\mu$, $\\sigma$ = mean, sd\n",
    "\n",
    "*Ref* [https://en.wikipedia.org/wiki/Log-normal_distribution#Probability_density_function]\n",
    "\n",
    "The log-normal distribution also has relevance to Reliability Engineering. The lognormal distribution is commonly used to model the lives of units whose failure modes are of a fatigue-stress\n",
    "nature. Since this includes most, if not all, mechanical systems, the log normal distribution can have widespread\n",
    "application. *Ref* [Life Data Analysis Reference, http://reliawiki.org/index.php/Introduction_to_Life_Data_Analysis]"
   ]
  },
  {
   "cell_type": "code",
   "execution_count": 26,
   "metadata": {},
   "outputs": [
    {
     "name": "stderr",
     "output_type": "stream",
     "text": [
      "C:\\Users\\hugh_\\Anaconda3\\lib\\site-packages\\scipy\\stats\\stats.py:1713: FutureWarning: Using a non-tuple sequence for multidimensional indexing is deprecated; use `arr[tuple(seq)]` instead of `arr[seq]`. In the future this will be interpreted as an array index, `arr[np.array(seq)]`, which will result either in an error or a different result.\n",
      "  return np.add.reduce(sorted[indexer] * weights, axis=axis) / sumval\n"
     ]
    },
    {
     "data": {
      "text/plain": [
       "Text(0,0.5,'p(x)')"
      ]
     },
     "execution_count": 26,
     "metadata": {},
     "output_type": "execute_result"
    },
    {
     "data": {
      "image/png": "[encoded data removed]",
      "text/plain": [
       "<matplotlib.figure.Figure at 0x263c0ce0b38>"
      ]
     },
     "metadata": {
      "needs_background": "light"
     },
     "output_type": "display_data"
    }
   ],
   "source": [
    "L = np.random.lognormal(3, 0.5, 20000) \n",
    "ax = sns.distplot(L, color = 'm',) #The 'distplot' seaborn function plots a log-normal distribution of observations and combines a hist plot with a probability density (seaborn.kdeplot) plot\n",
    "plt.title('Log Normal Distribution (pdf)')\n",
    "plt.xlabel('x variables')\n",
    "plt.ylabel('p(x)')"
   ]
  },
  {
   "cell_type": "code",
   "execution_count": 27,
   "metadata": {},
   "outputs": [
    {
     "name": "stderr",
     "output_type": "stream",
     "text": [
      "C:\\Users\\hugh_\\Anaconda3\\lib\\site-packages\\scipy\\stats\\stats.py:1713: FutureWarning: Using a non-tuple sequence for multidimensional indexing is deprecated; use `arr[tuple(seq)]` instead of `arr[seq]`. In the future this will be interpreted as an array index, `arr[np.array(seq)]`, which will result either in an error or a different result.\n",
      "  return np.add.reduce(sorted[indexer] * weights, axis=axis) / sumval\n"
     ]
    },
    {
     "data": {
      "text/plain": [
       "Text(0,0.5,'p(x)')"
      ]
     },
     "execution_count": 27,
     "metadata": {},
     "output_type": "execute_result"
    },
    {
     "data": {
      "image/png": "[encoded data removed]",
      "text/plain": [
       "<matplotlib.figure.Figure at 0x263c0ea3550>"
      ]
     },
     "metadata": {
      "needs_background": "light"
     },
     "output_type": "display_data"
    }
   ],
   "source": [
    "L = np.random.lognormal(3, 0.5, 20000) # log normal distribution of mean 3, sd 0.5 and range 20000\n",
    "\n",
    "#attempt to create a continuous distribution function of lognormal data\n",
    "CY = np.cumsum(L) #numulative sum of L: credit https://stackoverflow.com/questions/9378420/how-to-plot-cdf-in-matplotlib-in-python\n",
    "ax = sns.distplot(CY, color = 'b',) #The 'distplot' seaborn function plots a log-normal distribution of observations and combines a hist plot with a probability density (seaborn.kdeplot) plot\n",
    "plt.title('Log Normal Distribution as a cdf')\n",
    "plt.xlabel('x variables')\n",
    "plt.ylabel('p(x)')"
   ]
  },
  {
   "cell_type": "markdown",
   "metadata": {},
   "source": [
    "**The above code is an attempt to plot the cumulative frequency of the log normal distribution. Similar cumulative logarithmic relationships can be seen in nature in examples such as the growth rate of bacteria, with a log(growth), lag(steady) and death phase.**"
   ]
  },
  {
   "cell_type": "markdown",
   "metadata": {},
   "source": [
    "## The Normal Distribution"
   ]
  },
  {
   "cell_type": "markdown",
   "metadata": {},
   "source": [
    "The *numpy.random.normal(loc=0.0, scale=1.0, size=None)* creates a normal distribution of normal data. The normal distribution is one of the more commonly used distributions in statistics since it is representative of many common real world distributions such as test scores in an exams and industrial processes. The normal distribution may also be referred to as the 'bell curve' or 'Gaussian distribution' the latter in honor of the 18th-century physicist and mathematician Karl Gauss, who used this distribution to analyze astronomical data  *Ref* [Statistics in a nutshell, S. Boslaugh; P.A. Watters, O'Reilly]\n",
    "\n",
    "![img](https://upload.wikimedia.org/wikipedia/commons/e/ec/Carl_Friedrich_Gauss_1840_by_Jensen.jpg)\n",
    "\n",
    "\n",
    "The probability function  for the Normal Distribution is: \n",
    "\n",
    "$$p(x) \\sim N(\\mu|\\sigma^2) \\\\\\\\$$\n",
    "\n",
    "$$p(x) \\sim \\frac{1}{\\sqrt{2\\pi\\sigma^2}} \\exp{ \\bigg[-\\frac{1}{2}\\bigg( \\frac{x-\\mu}{\\sigma}\\bigg)^2 \\bigg] }$$\n",
    "\n",
    "Where: $\\mu$, $\\sigma$ = mean, sd"
   ]
  },
  {
   "cell_type": "code",
   "execution_count": 28,
   "metadata": {
    "scrolled": true
   },
   "outputs": [
    {
     "name": "stderr",
     "output_type": "stream",
     "text": [
      "C:\\Users\\hugh_\\Anaconda3\\lib\\site-packages\\scipy\\stats\\stats.py:1713: FutureWarning: Using a non-tuple sequence for multidimensional indexing is deprecated; use `arr[tuple(seq)]` instead of `arr[seq]`. In the future this will be interpreted as an array index, `arr[np.array(seq)]`, which will result either in an error or a different result.\n",
      "  return np.add.reduce(sorted[indexer] * weights, axis=axis) / sumval\n"
     ]
    },
    {
     "data": {
      "text/plain": [
       "Text(0,0.5,'p(x)')"
      ]
     },
     "execution_count": 28,
     "metadata": {},
     "output_type": "execute_result"
    },
    {
     "data": {
      "image/png": "[encoded data removed]",
      "text/plain": [
       "<matplotlib.figure.Figure at 0x263c1fd1a58>"
      ]
     },
     "metadata": {
      "needs_background": "light"
     },
     "output_type": "display_data"
    }
   ],
   "source": [
    "M = np.random.normal(3, 0.5, 20000)# normal distribution of mean=3, sd=0.5 and range 20000\n",
    "ax = sns.distplot(M, color = 'g',) #The 'distplot' seaborn function plots a normal distribution of observations and combines a hist plot with a probability density (seaborn.kdeplot) plot\n",
    "plt.title('Normal Distribution')\n",
    "plt.xlabel('x variables')\n",
    "plt.ylabel('p(x)')"
   ]
  },
  {
   "cell_type": "markdown",
   "metadata": {},
   "source": [
    "**It can be seen in the above plot of the normal distribution that the probability density is at its highest at the mean and evenly distributed either side of the mean. The 'spread' of the distribution is dependent on the standard deviation**"
   ]
  },
  {
   "cell_type": "markdown",
   "metadata": {},
   "source": [
    "Applications of the normal distribution can be seen in the Operational Excellence Manufacturing model *Six Sigma* which aims to have less than 6 $\\sigma$ defects in a process, i.e. less than 6 standard deviations from the mean or 99.9997 % defect free *Ref* [https://en.wikipedia.org/wiki/Six_Sigma]\n",
    "\n",
    "The illustration below shows what occurs when a process varies by 1.5$\\sigma$s around the mean. The Lower and upper specification limit (LSL and USL) are at 6$\\sigma$s but a variation of 1.5$\\sigma$s will still keep the process in control.\n",
    "\n",
    "![img](https://upload.wikimedia.org/wikipedia/commons/a/a3/6_Sigma_Normal_distribution.svg)"
   ]
  },
  {
   "cell_type": "markdown",
   "metadata": {},
   "source": [
    "## THE RANDOM BINOMIAL DISTRIBUTION"
   ]
  },
  {
   "cell_type": "markdown",
   "metadata": {},
   "source": [
    "The *numpy.random.binomial(n, p, size=None)* function creates a random binomial function. Wikipedia tells us that the binomial distribution is representative of the probability, *p* of a series of 'successes' in a number *n* of trials in an experiment which can have two possible outcomes ('success' or 'failure'). *ref*[https://en.wikipedia.org/wiki/Binomial_distribution]\n",
    "\n",
    "A number of assumptions need to be valid in order for an experiment to be considered binomial:\n",
    "    * The experiment has two possible outcomes (A random trial with two possible outcomes is known as a *Bernouilli experiment*)\n",
    "    * The trials in the experiment are independent\n",
    "    * The probability of a success in each trial is constant\n",
    "    \n",
    "Where *n* = No. of trials and *x* is number of successes\n",
    "\n",
    "The probability Mass Function of x is:\n",
    "    \n",
    "$$p(x) = {\\binom{n}{x}}{p^x(1-p)^{n-x}}$$  x= 0,1,2...\n",
    "\n",
    "given *p* and *n* is 1,2.....\n",
    "\n",
    "*ref* [Applied Ststistics and Probability for Engineers, Montgomery, D.C.; Runger, G.C.]\n",
    "      "
   ]
  },
  {
   "cell_type": "code",
   "execution_count": 29,
   "metadata": {},
   "outputs": [
    {
     "name": "stderr",
     "output_type": "stream",
     "text": [
      "C:\\Users\\hugh_\\Anaconda3\\lib\\site-packages\\scipy\\stats\\stats.py:1713: FutureWarning: Using a non-tuple sequence for multidimensional indexing is deprecated; use `arr[tuple(seq)]` instead of `arr[seq]`. In the future this will be interpreted as an array index, `arr[np.array(seq)]`, which will result either in an error or a different result.\n",
      "  return np.add.reduce(sorted[indexer] * weights, axis=axis) / sumval\n"
     ]
    },
    {
     "data": {
      "text/plain": [
       "Text(0,0.5,'p(x)')"
      ]
     },
     "execution_count": 29,
     "metadata": {},
     "output_type": "execute_result"
    },
    {
     "data": {
      "image/png": "[encoded data removed]",
      "text/plain": [
       "<matplotlib.figure.Figure at 0x263c0f086a0>"
      ]
     },
     "metadata": {
      "needs_background": "light"
     },
     "output_type": "display_data"
    }
   ],
   "source": [
    "B = np.random.binomial(3, 0.5, 20000)# binomial distribution of mean=3, sd=0.5 and range 20000\n",
    "ax = sns.distplot(B, color = 'r',) #The 'distplot' seaborn function plots a normal distribution of observations and combines a hist plot with a probability density (seaborn.kdeplot) plot\n",
    "plt.title('Binomial Distribution')\n",
    "plt.xlabel('x variables')\n",
    "plt.ylabel('p(x)')"
   ]
  }
 ],
 "metadata": {
  "kernelspec": {
   "display_name": "Python 3",
   "language": "python",
   "name": "python3"
  },
  "language_info": {
   "codemirror_mode": {
    "name": "ipython",
    "version": 3
   },
   "file_extension": ".py",
   "mimetype": "text/x-python",
   "name": "python",
   "nbconvert_exporter": "python",
   "pygments_lexer": "ipython3",
   "version": "3.6.6"
  }
 },
 "nbformat": 4,
 "nbformat_minor": 2
}
