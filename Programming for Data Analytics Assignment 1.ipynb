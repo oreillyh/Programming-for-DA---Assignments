{
 "cells": [
  {
   "cell_type": "markdown",
   "metadata": {},
   "source": [
    "# PROGRAMMING FOR DATA ANALYTICS ASSIGNMENT 1:\n",
    "\n",
    "# THE *NUMPY.RANDOM* PYTHON PACKAGE"
   ]
  },
  {
   "cell_type": "markdown",
   "metadata": {},
   "source": [
    "## BACKGROUND"
   ]
  },
  {
   "cell_type": "markdown",
   "metadata": {},
   "source": [
    "The *numpy.random* Python package is a module within the numpy library which generates arrays of sample values from many kinds of probability distributions. *Ref* [Python for Data Analysis, Wes McKinney, O'Reilly,2018] "
   ]
  },
  {
   "cell_type": "markdown",
   "metadata": {},
   "source": [
    "## SIMPLE RANDOM DATA FUNCTION"
   ]
  },
  {
   "cell_type": "markdown",
   "metadata": {},
   "source": [
    "The *Simple Random Data* function generates random numbers of different types such as various shaped arrays, normally distributed arrays, ranges of floats of differing parameters such as the range, dimensions and probabilities of the returned values."
   ]
  },
  {
   "cell_type": "markdown",
   "metadata": {},
   "source": [
    "**The following lines of code demonstrate the usefulness of the *random.rand* function to generate random numbers between 0 and 1 and how this data can then be manipulated, plotted and visualised.**"
   ]
  },
  {
   "cell_type": "code",
   "execution_count": 1,
   "metadata": {
    "scrolled": true
   },
   "outputs": [
    {
     "data": {
      "text/plain": [
       "Text(0.5,1,'plot of 100 random floats ')"
      ]
     },
     "execution_count": 1,
     "metadata": {},
     "output_type": "execute_result"
    },
    {
     "data": {
      "image/png": "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\n",
      "text/plain": [
       "<matplotlib.figure.Figure at 0x27a89648780>"
      ]
     },
     "metadata": {
      "needs_background": "light"
     },
     "output_type": "display_data"
    }
   ],
   "source": [
    "#numpy.random.rand(d0, d1, ..., dn) function example\n",
    "#returns array of random floats between 0 and 1 of shape (d0 to dn)\n",
    "import numpy as np #import numpy package\n",
    "import matplotlib.pyplot as plt\n",
    "import scipy as sc\n",
    "from scipy import stats\n",
    "import math as mt\n",
    "import pandas as pd\n",
    "%matplotlib inline\n",
    "R1 = np.random.rand(100,1) #return 100 x 1 random array of floats between 0 and (not including) 1\n",
    "x = np.arange(100) #create a list 0f 1 to 100 in order to plot the random no's created against in a scatter plot\n",
    "plt.scatter(x,R1)\n",
    "plt.title(\"plot of 100 random floats \")"
   ]
  },
  {
   "cell_type": "markdown",
   "metadata": {},
   "source": [
    "**Plot of the random array against its square (just for fun)**"
   ]
  },
  {
   "cell_type": "code",
   "execution_count": 2,
   "metadata": {
    "scrolled": false
   },
   "outputs": [
    {
     "data": {
      "text/plain": [
       "Text(0.5,1,'Random.rand function plotted vs its square')"
      ]
     },
     "execution_count": 2,
     "metadata": {},
     "output_type": "execute_result"
    },
    {
     "data": {
      "image/png": "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\n",
      "text/plain": [
       "<matplotlib.figure.Figure at 0x27a89628da0>"
      ]
     },
     "metadata": {
      "needs_background": "light"
     },
     "output_type": "display_data"
    }
   ],
   "source": [
    "R1 = np.random.rand(100,1) #return 5x5 random array\n",
    "R2 = R1*R1 #create an array of R1 Squared\n",
    "DF = np.hstack((R1,R2)) #Create a dataframe of R1 and R2\n",
    "plt.scatter(DF[:,0],DF[:,1]) #Plot of R1 against its square:R2\n",
    "plt.title(\"Random.rand function plotted vs its square\")"
   ]
  },
  {
   "cell_type": "markdown",
   "metadata": {},
   "source": [
    "**Some summary statistics of our random numbers**"
   ]
  },
  {
   "cell_type": "code",
   "execution_count": 3,
   "metadata": {
    "scrolled": true
   },
   "outputs": [
    {
     "name": "stdout",
     "output_type": "stream",
     "text": [
      "Minumum = 0.006315302102699705\n",
      "Maximum = 0.9850864512119921\n",
      "Mean =  0.5230273701742406\n",
      "Variance = 0.07704464173694736\n"
     ]
    }
   ],
   "source": [
    "z = np.array(R1)\n",
    "print('Minumum =', z.min())   \n",
    "print('Maximum =', z.max())   \n",
    "print('Mean = ', z.mean())  \n",
    "print('Variance =', z.var())\n"
   ]
  },
  {
   "cell_type": "markdown",
   "metadata": {},
   "source": [
    "## PERMUTATIONS FUNCTIONS"
   ]
  },
  {
   "cell_type": "markdown",
   "metadata": {},
   "source": [
    "The *Permutations* functions, *shuffle* and *permutation* both generate random numbers with the shuffle function changing the order of a given set of inputs. The permutation function will create a random sequence of numbers given an input length. "
   ]
  },
  {
   "cell_type": "markdown",
   "metadata": {},
   "source": [
    "**The following code creates a lotto draw using the *shuffle* function**"
   ]
  },
  {
   "cell_type": "code",
   "execution_count": 4,
   "metadata": {
    "scrolled": true
   },
   "outputs": [
    {
     "data": {
      "text/plain": [
       "('The lotto numbers are', array([ 2, 14, 38, 18, 26, 22]))"
      ]
     },
     "execution_count": 4,
     "metadata": {},
     "output_type": "execute_result"
    }
   ],
   "source": [
    "#Shuffle Function\n",
    "i = list(range(1, 43)) #create a list of 42 numbers\n",
    "x = np.array(i) #convert to a numpy array\n",
    "np.random.shuffle(x) #shuffle the numbers\n",
    "x\n",
    "draw = x[0:6] #output first 6 random numbers\n",
    "'The lotto numbers are', draw # dispay the lotto numbers\n",
    "\n"
   ]
  },
  {
   "cell_type": "markdown",
   "metadata": {},
   "source": [
    "**Example of the use of the *permutation* function to create a random password**"
   ]
  },
  {
   "cell_type": "code",
   "execution_count": 5,
   "metadata": {
    "scrolled": true
   },
   "outputs": [
    {
     "name": "stdout",
     "output_type": "stream",
     "text": [
      "Password is = ['S' 'N' 'H' 'P' 'K' 'L']\n"
     ]
    }
   ],
   "source": [
    "#Permutation Function\n",
    "\n",
    "#A small example of how the permutation function can be used to generate a random password\n",
    "Letters = np.array(['A', 'B', 'C', 'D', 'E', 'F', 'G', 'H', 'I', 'J', 'K', 'L', 'M', 'N', 'O', 'P', 'Q', 'R', 'S', 'T', 'U', 'V', 'X', 'Y', 'Z'])\n",
    "Order = np.random.permutation(Letters)\n",
    "print('Password is =', Order[1:7])\n"
   ]
  },
  {
   "cell_type": "markdown",
   "metadata": {},
   "source": [
    "The above examples of *shuffle* and *permutation* functions show practical uses for these functions. In particular it can be seen where there would be scope to use these functions as part of larger programs used for encryption and password management"
   ]
  },
  {
   "cell_type": "markdown",
   "metadata": {},
   "source": [
    "## DISTRIBUTIONS FUNCTIONS"
   ]
  },
  {
   "cell_type": "markdown",
   "metadata": {},
   "source": [
    "## The Poisson Distribution\n",
    "\n",
    "The *numpy.random.poisson* function creates a Poisson Distribution is a probability distribution which can be described as the probability of events occuring at regular intervals of which the events are independent of eachother. An example would be the number of decays per second of a radioactive source where the average number of decays per unit time is known.\n",
    "\n",
    "*Definition*: If the mean number of counts in the interval is $\\lambda$ > 0 , the random variable X that equals the number of counts (events) in the interval has a **Poisson Distribution** with parameter $\\lambda$, and the probability mass function of x is\n",
    "\n",
    "$$ f(x) = \\frac{{\\mathrm e^{-\\lambda} \\lambda^x}}{x!} $$, x = 0,1,2,... and where *e* is the base of the natural log e and is 2.71828\n",
    "\n",
    "*References* [https://en.wikipedia.org/wiki/Poisson_distribution], [Applied Statistics and Probability for Engineers, Montgomery; D.C.; Runger; G.C.]"
   ]
  },
  {
   "cell_type": "code",
   "execution_count": 6,
   "metadata": {
    "scrolled": true
   },
   "outputs": [
    {
     "name": "stderr",
     "output_type": "stream",
     "text": [
      "C:\\Users\\hugh_\\Anaconda3\\lib\\site-packages\\scipy\\stats\\stats.py:1713: FutureWarning: Using a non-tuple sequence for multidimensional indexing is deprecated; use `arr[tuple(seq)]` instead of `arr[seq]`. In the future this will be interpreted as an array index, `arr[np.array(seq)]`, which will result either in an error or a different result.\n",
      "  return np.add.reduce(sorted[indexer] * weights, axis=axis) / sumval\n"
     ]
    },
    {
     "data": {
      "text/plain": [
       "Text(0,0.5,'f(x)')"
      ]
     },
     "execution_count": 6,
     "metadata": {},
     "output_type": "execute_result"
    },
    {
     "data": {
      "image/png": "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\n",
      "text/plain": [
       "<matplotlib.figure.Figure at 0x27a8d046940>"
      ]
     },
     "metadata": {
      "needs_background": "light"
     },
     "output_type": "display_data"
    }
   ],
   "source": [
    "# The poisson Distribution\n",
    "import seaborn as sns\n",
    "P = np.random.poisson(5, 10000) #plots a Poisson Distribution of interval = 5 and size = 12\n",
    "ax = sns.distplot(P, color = 'y',) #The 'distplot' seaborn function plots a univariate distribution of observations and combines a hist plot with a probability density (seaborn.kdeplot) plot\n",
    "plt.title('Poisson Distribution')\n",
    "plt.xlabel('x variables')\n",
    "plt.ylabel('f(x)')\n"
   ]
  },
  {
   "cell_type": "markdown",
   "metadata": {},
   "source": [
    "**It can be seen from the above plot that the probability of events (f(x)) is highest as we approach the point where the actual number of events (5) equals the average number of events in the above example. In this way the distribution provides both a numerical AND graphical way to understand the probabilities of events occuring given their known average per discrete times**"
   ]
  },
  {
   "cell_type": "markdown",
   "metadata": {},
   "source": [
    "Example of  a poisson distribution of distance vs gamma ray counts *ref*[https://lexieslogofphysics.wordpress.com/2013/05/08/poisson-statistics-and-radioactive-decay/]\n",
    "\n",
    "![img](https://lexieslogofphysics.files.wordpress.com/2013/05/51.jpg)"
   ]
  },
  {
   "cell_type": "markdown",
   "metadata": {},
   "source": [
    "## The Exponential Distribution"
   ]
  },
  {
   "cell_type": "markdown",
   "metadata": {},
   "source": [
    "The *numpy.random.exponential* function creates a random exponential distribution. The *Exponential Distribution* is related to the *Poisson Distribution* from the perspective that the poisson distribution measures the probability of occurences (at regular intervals) whereas the exponential distribution is related to the cumulative interval of those occurences. Examples of the use of the Exponential function include Reliability Engineering where the exponential distribution is used to model the behavior of units that have a constant failure rate (or units that do not degrade with time or wear out). *Ref* [http://reliawiki.org/index.php/The_Exponential_Distribution]\n",
    "\n",
    "*Definition*. The random variable X that equals the distance between successive counts of a Poisson process with mean $\\lambda >0$ has an **exponential distribution** with parameter $\\lambda$ The probability density function of X is:\n",
    "\n",
    "$$f(x) = {\\lambda e^{-\\lambda x}}$$ for $$ 0 <=x>= \\infty $$\n",
    "\n",
    "### **Use of Exponential Function in Reliability Engineering**\n",
    "\n",
    "![img](http://reliawiki.org/images/6/65/Effect_of_upsilon.png)"
   ]
  },
  {
   "cell_type": "markdown",
   "metadata": {},
   "source": [
    "The above graphic of an exponential reliability function shows how the reliability function (y axis) decreases with time. The $\\Upsilon$ value is a unique variable used in Reliability Engineering to indicate the expected time of failure. (A machine is not likely to fail at T=0). This can be seen in the black line where the $\\Upsilon$ value is 2500 *Ref*[http://reliawiki.org/index.php/The_Exponential_Distribution]"
   ]
  },
  {
   "cell_type": "code",
   "execution_count": 7,
   "metadata": {
    "scrolled": true
   },
   "outputs": [
    {
     "name": "stderr",
     "output_type": "stream",
     "text": [
      "C:\\Users\\hugh_\\Anaconda3\\lib\\site-packages\\scipy\\stats\\stats.py:1713: FutureWarning: Using a non-tuple sequence for multidimensional indexing is deprecated; use `arr[tuple(seq)]` instead of `arr[seq]`. In the future this will be interpreted as an array index, `arr[np.array(seq)]`, which will result either in an error or a different result.\n",
      "  return np.add.reduce(sorted[indexer] * weights, axis=axis) / sumval\n"
     ]
    },
    {
     "data": {
      "text/plain": [
       "Text(0,0.5,'f(x)')"
      ]
     },
     "execution_count": 7,
     "metadata": {},
     "output_type": "execute_result"
    },
    {
     "data": {
      "image/png": "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\n",
      "text/plain": [
       "<matplotlib.figure.Figure at 0x27a8d0ff630>"
      ]
     },
     "metadata": {
      "needs_background": "light"
     },
     "output_type": "display_data"
    }
   ],
   "source": [
    "#The Exponential Distribution\n",
    "Q = np.random.exponential(5,10000)\n",
    "ax = sns.distplot(Q, color = 'g',) #The 'distplot' seaborn function plots a univariate distribution of observations and combines a hist plot with a probability density (seaborn.kdeplot) plot\n",
    "plt.title('Exponential Distribution')\n",
    "plt.xlabel('x variables')\n",
    "plt.ylabel('f(x)')"
   ]
  },
  {
   "cell_type": "markdown",
   "metadata": {},
   "source": [
    "## The Log Normal Distribution"
   ]
  },
  {
   "cell_type": "markdown",
   "metadata": {},
   "source": [
    "The *numpy.random.lognormal(mean=0.0, sigma=1.0, size=None)* distribution creates a random distribution of the log of a normal distribution, with a specified mean, sd and size. The mean, sd and size are derived from the normal distribution from which the log normal random distribution is created.\n",
    "\n"
   ]
  },
  {
   "cell_type": "markdown",
   "metadata": {},
   "source": [
    "The probability density function of the log normal distribution is defined as:\n",
    "\n",
    "$$p(x) = \\frac{1}{\\sigma x \\sqrt{2\\pi}} e^{(-\\frac{(ln(x)-\\mu)^2}{2\\sigma^2})}$$\n",
    "\n",
    "where: $\\mu$, $\\sigma$ = mean, sd\n",
    "\n",
    "*Ref* [https://en.wikipedia.org/wiki/Log-normal_distribution#Probability_density_function]\n",
    "\n",
    "The log-normal distribution also has relevance to Reliability Engineering. The lognormal distribution is commonly used to model the lives of units whose failure modes are of a fatigue-stress\n",
    "nature. Since this includes most, if not all, mechanical systems, the log normal distribution can have widespread\n",
    "application. *Ref* [Life Data Analysis Reference, http://reliawiki.org/index.php/Introduction_to_Life_Data_Analysis]"
   ]
  },
  {
   "cell_type": "code",
   "execution_count": 8,
   "metadata": {},
   "outputs": [
    {
     "name": "stderr",
     "output_type": "stream",
     "text": [
      "C:\\Users\\hugh_\\Anaconda3\\lib\\site-packages\\scipy\\stats\\stats.py:1713: FutureWarning: Using a non-tuple sequence for multidimensional indexing is deprecated; use `arr[tuple(seq)]` instead of `arr[seq]`. In the future this will be interpreted as an array index, `arr[np.array(seq)]`, which will result either in an error or a different result.\n",
      "  return np.add.reduce(sorted[indexer] * weights, axis=axis) / sumval\n"
     ]
    },
    {
     "data": {
      "text/plain": [
       "Text(0,0.5,'p(x)')"
      ]
     },
     "execution_count": 8,
     "metadata": {},
     "output_type": "execute_result"
    },
    {
     "data": {
      "image/png": "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\n",
      "text/plain": [
       "<matplotlib.figure.Figure at 0x27a8e7c1940>"
      ]
     },
     "metadata": {
      "needs_background": "light"
     },
     "output_type": "display_data"
    }
   ],
   "source": [
    "L = np.random.lognormal(3, 0.5, 20000) \n",
    "ax = sns.distplot(L, color = 'm',) #The 'distplot' seaborn function plots a log-normal distribution of observations and combines a hist plot with a probability density (seaborn.kdeplot) plot\n",
    "plt.title('Log Normal Distribution (pdf)')\n",
    "plt.xlabel('x variables')\n",
    "plt.ylabel('p(x)')"
   ]
  },
  {
   "cell_type": "code",
   "execution_count": 9,
   "metadata": {},
   "outputs": [
    {
     "name": "stderr",
     "output_type": "stream",
     "text": [
      "C:\\Users\\hugh_\\Anaconda3\\lib\\site-packages\\scipy\\stats\\stats.py:1713: FutureWarning: Using a non-tuple sequence for multidimensional indexing is deprecated; use `arr[tuple(seq)]` instead of `arr[seq]`. In the future this will be interpreted as an array index, `arr[np.array(seq)]`, which will result either in an error or a different result.\n",
      "  return np.add.reduce(sorted[indexer] * weights, axis=axis) / sumval\n"
     ]
    },
    {
     "data": {
      "text/plain": [
       "Text(0,0.5,'p(x)')"
      ]
     },
     "execution_count": 9,
     "metadata": {},
     "output_type": "execute_result"
    },
    {
     "data": {
      "image/png": "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\n",
      "text/plain": [
       "<matplotlib.figure.Figure at 0x27a8e908c18>"
      ]
     },
     "metadata": {
      "needs_background": "light"
     },
     "output_type": "display_data"
    }
   ],
   "source": [
    "L = np.random.lognormal(3, 0.5, 20000) # log normal distribution of mean 3, sd 0.5 and range 20000\n",
    "\n",
    "#attempt to create a continuous distribution function of lognormal data\n",
    "CY = np.cumsum(L) #numulative sum of L: credit https://stackoverflow.com/questions/9378420/how-to-plot-cdf-in-matplotlib-in-python\n",
    "ax = sns.distplot(CY, color = 'b',) #The 'distplot' seaborn function plots a log-normal distribution of observations and combines a hist plot with a probability density (seaborn.kdeplot) plot\n",
    "plt.title('Log Normal Distribution as a cdf')\n",
    "plt.xlabel('x variables')\n",
    "plt.ylabel('p(x)')"
   ]
  },
  {
   "cell_type": "markdown",
   "metadata": {},
   "source": [
    "**The above code is an attempt to plot the cumulative frequency of the log normal distribution. Similar cumulative logarithmic relationships can be seen in nature in examples such as the growth rate of bacteria, with a log(growth), lag(steady) and death phase.**"
   ]
  },
  {
   "cell_type": "markdown",
   "metadata": {},
   "source": [
    "## The Normal Distribution"
   ]
  },
  {
   "cell_type": "markdown",
   "metadata": {},
   "source": [
    "The *numpy.random.normal(loc=0.0, scale=1.0, size=None)* creates a normal distribution of normal data. The normal distribution is one of the more commonly used distributions in statistics since it is representative of many common real world distributions such as test scores in an exams and industrial processes. The normal distribution may also be referred to as the 'bell curve' or 'Gaussian distribution' the latter in honor of the 18th-century physicist and mathematician Karl Gauss, who used this distribution to analyze astronomical data  *Ref* [Statistics in a nutshell, S. Boslaugh; P.A. Watters, O'Reilly]\n",
    "\n",
    "![img](https://upload.wikimedia.org/wikipedia/commons/e/ec/Carl_Friedrich_Gauss_1840_by_Jensen.jpg)\n",
    "\n",
    "\n",
    "The probability function  for the Normal Distribution is: \n",
    "\n",
    "$$p(x) \\sim N(\\mu|\\sigma^2) \\\\\\\\$$\n",
    "\n",
    "$$p(x) \\sim \\frac{1}{\\sqrt{2\\pi\\sigma^2}} \\exp{ \\bigg[-\\frac{1}{2}\\bigg( \\frac{x-\\mu}{\\sigma}\\bigg)^2 \\bigg] }$$\n",
    "\n",
    "Where: $\\mu$, $\\sigma$ = mean, sd"
   ]
  },
  {
   "cell_type": "code",
   "execution_count": 10,
   "metadata": {
    "scrolled": true
   },
   "outputs": [
    {
     "name": "stderr",
     "output_type": "stream",
     "text": [
      "C:\\Users\\hugh_\\Anaconda3\\lib\\site-packages\\scipy\\stats\\stats.py:1713: FutureWarning: Using a non-tuple sequence for multidimensional indexing is deprecated; use `arr[tuple(seq)]` instead of `arr[seq]`. In the future this will be interpreted as an array index, `arr[np.array(seq)]`, which will result either in an error or a different result.\n",
      "  return np.add.reduce(sorted[indexer] * weights, axis=axis) / sumval\n"
     ]
    },
    {
     "data": {
      "text/plain": [
       "Text(0,0.5,'p(x)')"
      ]
     },
     "execution_count": 10,
     "metadata": {},
     "output_type": "execute_result"
    },
    {
     "data": {
      "image/png": "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\n",
      "text/plain": [
       "<matplotlib.figure.Figure at 0x27a8e9f89b0>"
      ]
     },
     "metadata": {
      "needs_background": "light"
     },
     "output_type": "display_data"
    }
   ],
   "source": [
    "M = np.random.normal(3, 0.5, 20000)# normal distribution of mean=3, sd=0.5 and range 20000\n",
    "ax = sns.distplot(M, color = 'g',) #The 'distplot' seaborn function plots a normal distribution of observations and combines a hist plot with a probability density (seaborn.kdeplot) plot\n",
    "plt.title('Normal Distribution')\n",
    "plt.xlabel('x variables')\n",
    "plt.ylabel('p(x)')"
   ]
  },
  {
   "cell_type": "markdown",
   "metadata": {},
   "source": [
    "**It can be seen in the above plot of the normal distribution that the probability density is at its highest at the mean and evenly distributed either side of the mean. The 'spread' of the distribution is dependent on the standard deviation**"
   ]
  },
  {
   "cell_type": "markdown",
   "metadata": {},
   "source": [
    "Applications of the normal distribution can be seen in the Operational Excellence Manufacturing model *Six Sigma* which aims to have less than 6 $\\sigma$ defects in a process, i.e. less than 6 standard deviations from the mean or 99.9997 % defect free *Ref* [https://en.wikipedia.org/wiki/Six_Sigma]\n",
    "\n",
    "The illustration below shows what occurs when a process varies by 1.5$\\sigma$s around the mean. The Lower and upper specification limit (LSL and USL) are at 6$\\sigma$s but a variation of 1.5$\\sigma$s will still keep the process in control.\n",
    "\n",
    "![img](https://upload.wikimedia.org/wikipedia/commons/a/a3/6_Sigma_Normal_distribution.svg)"
   ]
  },
  {
   "cell_type": "markdown",
   "metadata": {},
   "source": [
    "### **THE KOLMOGOROV-SMIRNOV TEST FOR NORMALITY**\n",
    "\n",
    "The following line of code uses the '*Kolmogorov-Smirnov*' Test for Normality which we use on our original random normal distribution, M above.\n",
    "\n",
    "A *p* value >0.05 means we can reject the null hypothesis that the data is not normally distributed. '*D*' is the test statistic i.e. the difference between the test data and a normal distribution (low in our case as expected). Since we have created a random normal distribution we expect our *p* value to be high. The Kolmogorov Smirnov test for normality is an important tool to be used on data, as the distribution of the data can affect further statistical analysis such as correlations, ANOVA's etc. *ref* [https://www.spss-tutorials.com/spss-kolmogorov-smirnov-test-for-normality/#test-statistic] \n",
    "\n",
    "The Kolmogorov-Smirnov test may also be used to test for other types of data distributions but is more commonly used on normally data distributed data sets. It is an important test which is typically carried out after the data has been visualised graphically. Graphical representation of the data provides clues to its distribution characteristics e.g. symmetry, and is an aid to decide which kind of transformations may be necessary."
   ]
  },
  {
   "cell_type": "code",
   "execution_count": 11,
   "metadata": {},
   "outputs": [
    {
     "name": "stdout",
     "output_type": "stream",
     "text": [
      "KS-statistic D =  0.003 pvalue = 0.9943\n"
     ]
    }
   ],
   "source": [
    "#The Kolmogorov-Smirnov test used to test for, in the case a normal distribution\n",
    "d, pval = stats.kstest((M-M.mean())/M.std(), 'norm') # determines the test statistic determination\n",
    "print('KS-statistic D = %6.3f pvalue = %6.4f' % (d, pval)) #prints the KS-statistic and p value"
   ]
  },
  {
   "cell_type": "markdown",
   "metadata": {},
   "source": [
    "### **DATA TRANSFORMATIONS\n"**,
    "\n",
    "After testing the data for normality, for no-normal data it may be possible to transform the data to make it more 'normal' in order to perform parametric statistics. Square root or log transformations are examples of these types of transformation. It must be noted however that insights gained on transformed data subjected to statistical techniques must be interpreted in the context of what transformations have been carried out *Ref* [Statistics in a nutshell, Boslaugh, S; Watters, P.A., O'Reilly]  \n"
   ]
  },
  {
   "cell_type": "markdown",
   "metadata": {},
   "source": [
    "## THE RANDOM BINOMIAL DISTRIBUTION"
   ]
  },
  {
   "cell_type": "markdown",
   "metadata": {},
   "source": [
    "The *numpy.random.binomial(n, p, size=None)* function creates a random binomial function. Wikipedia tells us that the binomial distribution is representative of the probability, *p* of a series of 'successes' in a number *n* of trials in an experiment which can have two possible outcomes ('success' or 'failure'). *ref*[https://en.wikipedia.org/wiki/Binomial_distribution]\n",
    "\n",
    "A number of assumptions need to be valid in order for an experiment to be considered binomial:\n",
    "    * The experiment has two possible outcomes (A random trial with two possible outcomes is known as a *Bernouilli experiment*)\n",
    "    * The trials in the experiment are independent\n",
    "    * The probability of a success in each trial is constant\n",
    "    \n",
    "Where *n* = No. of trials and *x* is number of successes\n",
    "\n",
    "The probability Mass Function of x is:\n",
    "    \n",
    "$$p(x) = {\\binom{n}{x}}{p^x(1-p)^{n-x}}$$  x= 0,1,2...\n",
    "\n",
    "given *p* and *n* is 1,2.....\n",
    "\n",
    "*Ref* [Applied Statistics and Probability for Engineers, Montgomery, D.C.; Runger, G.C.]\n",
    "\n",
    "The binomial distribution can be used to describe many different types of real life data such as coin flips 'heads' or 'tails' or 'pass' 'fail' for exam results, where one of two outcomes is possible [Statistics in a nutshell, Boslaugh, S; Watters, P.A., O'Reilly]\n",
    "      "
   ]
  },
  {
   "cell_type": "code",
   "execution_count": 12,
   "metadata": {},
   "outputs": [
    {
     "name": "stderr",
     "output_type": "stream",
     "text": [
      "C:\\Users\\hugh_\\Anaconda3\\lib\\site-packages\\scipy\\stats\\stats.py:1713: FutureWarning: Using a non-tuple sequence for multidimensional indexing is deprecated; use `arr[tuple(seq)]` instead of `arr[seq]`. In the future this will be interpreted as an array index, `arr[np.array(seq)]`, which will result either in an error or a different result.\n",
      "  return np.add.reduce(sorted[indexer] * weights, axis=axis) / sumval\n"
     ]
    },
    {
     "data": {
      "text/plain": [
       "Text(0,0.5,'p(x)')"
      ]
     },
     "execution_count": 12,
     "metadata": {},
     "output_type": "execute_result"
    },
    {
     "data": {
      "image/png": "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\n",
      "text/plain": [
       "<matplotlib.figure.Figure at 0x27a8e96b390>"
      ]
     },
     "metadata": {
      "needs_background": "light"
     },
     "output_type": "display_data"
    }
   ],
   "source": [
    "B = np.random.binomial(20, 0.5, 20000)# binomial distribution of 20000 trials, p=0.5 and number of successes = 20 \n",
    "sns.distplot(B, color = 'r', bins=50); #histogram and kde plot\n",
    "plt.title('Binomial Distribution')\n",
    "plt.xlabel('x variables')\n",
    "plt.ylabel('p(x)')"
   ]
  },
  {
   "cell_type": "markdown",
   "metadata": {},
   "source": [
    "**In the above plot the distribution is symmetrical as p = 0.5. The distributions symmetry becomes greater with an increased number of trials**"
   ]
  },
  {
   "cell_type": "markdown",
   "metadata": {},
   "source": [
    "The code below outputs some summary statistics on our binomial distribution. skewness and kurtosis in particular are useful measures to describe the nature of our binomial distribution. both are low in our data set as it can be seen that the data set is highly symmetrical.\n",
    "\n",
    "Skewness is a measure of the lack of symmetry of a distribution and kurtosis is the fronting or tailing of a distribution: *Ref* [https://www.itl.nist.gov/div898/handbook/eda/section3/eda35b.htm]"
   ]
  },
  {
   "cell_type": "code",
   "execution_count": 13,
   "metadata": {},
   "outputs": [
    {
     "data": {
      "text/plain": [
       "DescribeResult(nobs=20000, minmax=(2, 19), mean=9.9896, variance=4.951339406970349, skewness=-0.012737464556015468, kurtosis=-0.063091511629354)"
      ]
     },
     "execution_count": 13,
     "metadata": {},
     "output_type": "execute_result"
    }
   ],
   "source": [
    "AR = np.array(B) #Creates a numpy array of the random binomial dataset\n",
    "stats.describe(AR)#outputs summary statistics"
   ]
  },
  {
   "cell_type": "markdown",
   "metadata": {},
   "source": [
    "## RANDOM SEEDS"
   ]
  },
  {
   "cell_type": "markdown",
   "metadata": {},
   "source": [
    "### PSEUDORANDOM NUMBERS\n",
    "\n",
    "The generation of random numbers used in algorithms and machine learning is achieved using a pseudorandom number generators which appear random but are created using a deterministic process. These random numbers are generated in a sequence and are seeded with an initial number.\n"
   ]
  },
  {
   "cell_type": "markdown",
   "metadata": {},
   "source": [
    "*The numpy.random.RandomState* Function uses the Mersenne Twister pseudorandom number generator.\n",
    "\n",
    "The Mersenne Twister pseudorandom number generator is so called because its period is chosen from a Mersenne prime. A Mersenne prime is a prime number that is one less than a power of two. That is, it is a prime number of the form $$Mn = {2^n − 1}$$ for some integer *n*. They are named after Marin Mersenne, a French Minim friar, who studied them in the early 17th century.\n",
    "\n",
    "The most commonly used versions of the Mersenne twister are $2^{19937-1}$ using a 32 or 64 bit length. \n",
    "\n",
    "The seed used to generate the random number can be any number from 0 to $2^{32-1}$, or generated by the PC clock."
   ]
  },
  {
   "cell_type": "markdown",
   "metadata": {},
   "source": [
    "The *numpy.random.seed* function is called automatically to seed the generator for *random.state* and may be called again to re-seed the generator"
   ]
  },
  {
   "cell_type": "markdown",
   "metadata": {},
   "source": [
    "*numpy.random.get_state* Function outputs the internal state of the Mersenne Twister pseudorandom number generator\n",
    "*numpy.random.set_state* Function sets the internal state of the Mersenne Twister pseudorandom number generator\n"
   ]
  },
  {
   "cell_type": "markdown",
   "metadata": {},
   "source": [
    "Seeds are used to initialise the creation of random numbers. They themselves are not the initial random number but set the point at which the random numbers are generated depending on the algorithm (like the Meresnne Twister) used to generate them. The choice of seed is crucial to computer security as it is the key to knowing the sequence of random numbers generated. Systems deliberately sharing seeds enables them to synchronise. \n",
    "*Ref* [https://en.wikipedia.org/wiki/Random_seed] "
   ]
  }
 ],
 "metadata": {
  "kernelspec": {
   "display_name": "Python 3",
   "language": "python",
   "name": "python3"
  },
  "language_info": {
   "codemirror_mode": {
    "name": "ipython",
    "version": 3
   },
   "file_extension": ".py",
   "mimetype": "text/x-python",
   "name": "python",
   "nbconvert_exporter": "python",
   "pygments_lexer": "ipython3",
   "version": "3.6.6"
  }
 },
 "nbformat": 4,
 "nbformat_minor": 2
}
