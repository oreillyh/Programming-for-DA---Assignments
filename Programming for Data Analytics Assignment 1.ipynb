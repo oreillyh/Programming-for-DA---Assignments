{
 "cells": [
  {
   "cell_type": "markdown",
   "metadata": {},
   "source": [
    "# PROGRAMMING FOR DATA ANALYTICS ASSIGNMENT 1:\n",
    "\n",
    "# THE *NUMPY.RANDOM* PYTHON PACKAGE"
   ]
  },
  {
   "cell_type": "markdown",
   "metadata": {},
   "source": [
    "## BACKGROUND"
   ]
  },
  {
   "cell_type": "markdown",
   "metadata": {},
   "source": [
    "The *numpy.random* Python package is a module within the numpy library which generates arrays of sample values from many kinds of probability distributions. *Ref* [Python for Data Analysis, Wes McKinney, O'Reilly,2018] "
   ]
  },
  {
   "cell_type": "markdown",
   "metadata": {},
   "source": [
    "## SIMPLE RANDOM DATA FUNCTION"
   ]
  },
  {
   "cell_type": "markdown",
   "metadata": {},
   "source": [
    "The *Simple Random Data* function generates random numbers of different types such as various shaped arrays, normally distributed arrays, ranges of floats of differing parameters such as the range, dimensions and probabilities of the returned values."
   ]
  },
  {
   "cell_type": "markdown",
   "metadata": {},
   "source": [
    "**The following lines of code demonstrate the usefulness of the *random.rand* function to generate random numbers between 0 and 1 and how this data can then be manipulated, plotted and visualised.**"
   ]
  },
  {
   "cell_type": "code",
   "execution_count": 1,
   "metadata": {
    "scrolled": true
   },
   "outputs": [
    {
     "data": {
      "text/plain": [
       "Text(0.5,1,'plot of 100 random floats ')"
      ]
     },
     "execution_count": 1,
     "metadata": {},
     "output_type": "execute_result"
    },
    {
     "data": {
      "image/png": "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\n",
      "text/plain": [
       "<matplotlib.figure.Figure at 0x235cfe37898>"
      ]
     },
     "metadata": {
      "needs_background": "light"
     },
     "output_type": "display_data"
    }
   ],
   "source": [
    "#numpy.random.rand(d0, d1, ..., dn) function example\n",
    "#returns array of random floats between 0 and 1 of shape (d0 to dn)\n",
    "import numpy as np #import numpy package\n",
    "import matplotlib.pyplot as plt\n",
    "import scipy as sc\n",
    "from scipy import stats\n",
    "import math as mt\n",
    "import pandas as pd\n",
    "%matplotlib inline\n",
    "R1 = np.random.rand(100,1) #return 100 x 1 random array of floats between 0 and (not including) 1\n",
    "x = np.arange(100) #create a list 0f 1 to 100 in order to plot the random no's created against in a scatter plot\n",
    "plt.scatter(x,R1)\n",
    "plt.title(\"plot of 100 random floats \")"
   ]
  },
  {
   "cell_type": "markdown",
   "metadata": {},
   "source": [
    "**Plot of the random array against its square (just for fun)**"
   ]
  },
  {
   "cell_type": "code",
   "execution_count": 2,
   "metadata": {
    "scrolled": false
   },
   "outputs": [
    {
     "data": {
      "text/plain": [
       "Text(0.5,1,'Random.rand function plotted vs its square')"
      ]
     },
     "execution_count": 2,
     "metadata": {},
     "output_type": "execute_result"
    },
    {
     "data": {
      "image/png": "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\n",
      "text/plain": [
       "<matplotlib.figure.Figure at 0x235cfe18860>"
      ]
     },
     "metadata": {
      "needs_background": "light"
     },
     "output_type": "display_data"
    }
   ],
   "source": [
    "R1 = np.random.rand(100,1) #return 5x5 random array\n",
    "R2 = R1*R1 #create an array of R1 Squared\n",
    "DF = np.hstack((R1,R2)) #Create a dataframe of R1 and R2\n",
    "plt.scatter(DF[:,0],DF[:,1]) #Plot of R1 against its square:R2\n",
    "plt.title(\"Random.rand function plotted vs its square\")"
   ]
  },
  {
   "cell_type": "markdown",
   "metadata": {},
   "source": [
    "**Some summary statistics of our random numbers**"
   ]
  },
  {
   "cell_type": "code",
   "execution_count": 3,
   "metadata": {
    "scrolled": true
   },
   "outputs": [
    {
     "name": "stdout",
     "output_type": "stream",
     "text": [
      "Minumum = 0.0006580253741128583\n",
      "Maximum = 0.9856140775033527\n",
      "Mean =  0.4759549015120975\n",
      "Variance = 0.09663537522484028\n"
     ]
    }
   ],
   "source": [
    "z = np.array(R1)\n",
    "print('Minumum =', z.min())   \n",
    "print('Maximum =', z.max())   \n",
    "print('Mean = ', z.mean())  \n",
    "print('Variance =', z.var())\n"
   ]
  },
  {
   "cell_type": "markdown",
   "metadata": {},
   "source": [
    "## PERMUTATIONS FUNCTIONS"
   ]
  },
  {
   "cell_type": "markdown",
   "metadata": {},
   "source": [
    "The *Permutations* functions, *shuffle* and *permutation* both generate random numbers with the shuffle function changing the order of a given set of inputs. The permutation function will create a random sequence of numbers given an input length. "
   ]
  },
  {
   "cell_type": "markdown",
   "metadata": {},
   "source": [
    "**The following code creates a lotto draw using the *shuffle* function**"
   ]
  },
  {
   "cell_type": "code",
   "execution_count": 4,
   "metadata": {
    "scrolled": true
   },
   "outputs": [
    {
     "data": {
      "text/plain": [
       "('The lotto numbers are', array([ 2,  6,  3, 30, 24, 41]))"
      ]
     },
     "execution_count": 4,
     "metadata": {},
     "output_type": "execute_result"
    }
   ],
   "source": [
    "#Shuffle Function\n",
    "i = list(range(1, 43)) #create a list of 42 numbers\n",
    "x = np.array(i) #convert to a numpy array\n",
    "np.random.shuffle(x) #shuffle the numbers\n",
    "x\n",
    "draw = x[0:6] #output first 6 random numbers\n",
    "'The lotto numbers are', draw # dispay the lotto numbers\n",
    "\n"
   ]
  },
  {
   "cell_type": "markdown",
   "metadata": {},
   "source": [
    "**Example of the use of the *permutation* function to create a random password**"
   ]
  },
  {
   "cell_type": "code",
   "execution_count": 5,
   "metadata": {
    "scrolled": true
   },
   "outputs": [
    {
     "name": "stdout",
     "output_type": "stream",
     "text": [
      "Password is = ['O' 'T' 'Q' 'H' 'L' 'D']\n"
     ]
    }
   ],
   "source": [
    "#Permutation Function\n",
    "\n",
    "#A small example of how the permutation function can be used to generate a random password\n",
    "Letters = np.array(['A', 'B', 'C', 'D', 'E', 'F', 'G', 'H', 'I', 'J', 'K', 'L', 'M', 'N', 'O', 'P', 'Q', 'R', 'S', 'T', 'U', 'V', 'X', 'Y', 'Z'])\n",
    "Order = np.random.permutation(Letters)\n",
    "print('Password is =', Order[1:7])\n"
   ]
  },
  {
   "cell_type": "markdown",
   "metadata": {},
   "source": [
    "The above examples of *shuffle* and *permutation* functions show practical uses for these functions. In particular it can be seen where there would be scope to use these functions as part of larger programs used for encryption and password management"
   ]
  },
  {
   "cell_type": "markdown",
   "metadata": {},
   "source": [
    "## DISTRIBUTIONS FUNCTIONS"
   ]
  },
  {
   "cell_type": "markdown",
   "metadata": {},
   "source": [
    "## The Poisson Distribution\n",
    "\n",
    "The *numpy.random.poisson* function creates a Poisson Distribution is a probability distribution which can be described as the probability of events occuring at regular intervals of which the events are independent of eachother. An example would be the number of decays per second of a radioactive source where the average number of decays per unit time is known.\n",
    "\n",
    "*Definition*: If the mean number of counts in the interval is $\\lambda$ > 0 , the random variable X that equals the number of counts (events) in the interval has a **Poisson Distribution** with parameter $\\lambda$, and the probability mass function of x is\n",
    "\n",
    "$$ f(x) = \\frac{{\\mathrm e^{-\\lambda} \\lambda^x}}{x!} $$, x = 0,1,2,... and where *e* is the base of the natural log e and is 2.71828\n",
    "\n",
    "*References* [https://en.wikipedia.org/wiki/Poisson_distribution], [Applied Statistics and Probability for Engineers, Montgomery; D.C.; Runger; G.C.]"
   ]
  },
  {
   "cell_type": "code",
   "execution_count": 6,
   "metadata": {
    "scrolled": true
   },
   "outputs": [
    {
     "name": "stderr",
     "output_type": "stream",
     "text": [
      "C:\\Users\\hugh_\\Anaconda3\\lib\\site-packages\\scipy\\stats\\stats.py:1713: FutureWarning: Using a non-tuple sequence for multidimensional indexing is deprecated; use `arr[tuple(seq)]` instead of `arr[seq]`. In the future this will be interpreted as an array index, `arr[np.array(seq)]`, which will result either in an error or a different result.\n",
      "  return np.add.reduce(sorted[indexer] * weights, axis=axis) / sumval\n"
     ]
    },
    {
     "data": {
      "text/plain": [
       "Text(0,0.5,'f(x)')"
      ]
     },
     "execution_count": 6,
     "metadata": {},
     "output_type": "execute_result"
    },
    {
     "data": {
      "image/png": "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\n",
      "text/plain": [
       "<matplotlib.figure.Figure at 0x235d3926470>"
      ]
     },
     "metadata": {
      "needs_background": "light"
     },
     "output_type": "display_data"
    }
   ],
   "source": [
    "# The poisson Distribution\n",
    "import seaborn as sns\n",
    "P = np.random.poisson(5, 10000) #plots a Poisson Distribution of interval = 5 and size = 12\n",
    "ax = sns.distplot(P, color = 'y',) #The 'distplot' seaborn function plots a univariate distribution of observations and combines a hist plot with a probability density (seaborn.kdeplot) plot\n",
    "plt.title('Poisson Distribution')\n",
    "plt.xlabel('x variables')\n",
    "plt.ylabel('f(x)')\n"
   ]
  },
  {
   "cell_type": "markdown",
   "metadata": {},
   "source": [
    "**It can be seen from the above plot that the probability of events (f(x)) is highest as we approach the point where the actual number of events (5) equals the average number of events in the above example. In this way the distribution provides both a numerical AND graphical way to understand the probabilities of events occuring given their known average per discrete times**"
   ]
  },
  {
   "cell_type": "markdown",
   "metadata": {},
   "source": [
    "Example of  a poisson distribution of distance vs gamma ray counts *ref*[https://lexieslogofphysics.wordpress.com/2013/05/08/poisson-statistics-and-radioactive-decay/]\n",
    "\n",
    "![img](https://lexieslogofphysics.files.wordpress.com/2013/05/51.jpg)"
   ]
  },
  {
   "cell_type": "markdown",
   "metadata": {},
   "source": [
    "## The Exponential Distribution"
   ]
  },
  {
   "cell_type": "markdown",
   "metadata": {},
   "source": [
    "The *numpy.random.exponential* function creates a random exponential distribution. The *Exponential Distribution* is related to the *Poisson Distribution* from the perspective that the poisson distribution measures the probability of occurences (at regular intervals) whereas the exponential distribution is related to the cumulative interval of those occurences. Examples of the use of the Exponential function include Reliability Engineering where the exponential distribution is used to model the behavior of units that have a constant failure rate (or units that do not degrade with time or wear out). *Ref* [http://reliawiki.org/index.php/The_Exponential_Distribution]\n",
    "\n",
    "*Definition*. The random variable X that equals the distance between successive counts of a Poisson process with mean $\\lambda >0$ has an **exponential distribution** with parameter $\\lambda$ The probability density function of X is:\n",
    "\n",
    "$$f(x) = {\\lambda e^{-\\lambda x}}$$ for $$ 0 <=x>= \\infty $$\n",
    "\n",
    "### **Use of Exponential Function in Reliability Engineering**\n",
    "\n",
    "![img](http://reliawiki.org/images/6/65/Effect_of_upsilon.png)"
   ]
  },
  {
   "cell_type": "markdown",
   "metadata": {},
   "source": [
    "The above graphic of an exponential reliability function shows how the reliability function (y axis) decreases with time. The $\\Upsilon$ value is a unique variable used in Reliability Engineering to indicate the expected time of failure. (A machine is not likely to fail at T=0). This can be seen in the black line where the $\\Upsilon$ value is 2500 *Ref*[http://reliawiki.org/index.php/The_Exponential_Distribution]"
   ]
  },
  {
   "cell_type": "code",
   "execution_count": 7,
   "metadata": {
    "scrolled": true
   },
   "outputs": [
    {
     "name": "stderr",
     "output_type": "stream",
     "text": [
      "C:\\Users\\hugh_\\Anaconda3\\lib\\site-packages\\scipy\\stats\\stats.py:1713: FutureWarning: Using a non-tuple sequence for multidimensional indexing is deprecated; use `arr[tuple(seq)]` instead of `arr[seq]`. In the future this will be interpreted as an array index, `arr[np.array(seq)]`, which will result either in an error or a different result.\n",
      "  return np.add.reduce(sorted[indexer] * weights, axis=axis) / sumval\n"
     ]
    },
    {
     "data": {
      "text/plain": [
       "Text(0,0.5,'f(x)')"
      ]
     },
     "execution_count": 7,
     "metadata": {},
     "output_type": "execute_result"
    },
    {
     "data": {
      "image/png": "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\n",
      "text/plain": [
       "<matplotlib.figure.Figure at 0x235d4fabb70>"
      ]
     },
     "metadata": {
      "needs_background": "light"
     },
     "output_type": "display_data"
    }
   ],
   "source": [
    "#The Exponential Distribution\n",
    "Q = np.random.exponential(5,10000)\n",
    "ax = sns.distplot(Q, color = 'g',) #The 'distplot' seaborn function plots a univariate distribution of observations and combines a hist plot with a probability density (seaborn.kdeplot) plot\n",
    "plt.title('Exponential Distribution')\n",
    "plt.xlabel('x variables')\n",
    "plt.ylabel('f(x)')"
   ]
  },
  {
   "cell_type": "markdown",
   "metadata": {},
   "source": [
    "## The Log Normal Distribution"
   ]
  },
  {
   "cell_type": "markdown",
   "metadata": {},
   "source": [
    "The *numpy.random.lognormal(mean=0.0, sigma=1.0, size=None)* distribution creates a random distribution of the log of a normal distribution, with a specified mean, sd and size. The mean, sd and size are derived from the normal distribution from which the log normal random distribution is created.\n",
    "\n"
   ]
  },
  {
   "cell_type": "markdown",
   "metadata": {},
   "source": [
    "The probability density function of the log normal distribution is defined as:\n",
    "\n",
    "$$p(x) = \\frac{1}{\\sigma x \\sqrt{2\\pi}} e^{(-\\frac{(ln(x)-\\mu)^2}{2\\sigma^2})}$$\n",
    "\n",
    "where: $\\mu$, $\\sigma$ = mean, sd\n",
    "\n",
    "*Ref* [https://en.wikipedia.org/wiki/Log-normal_distribution#Probability_density_function]\n",
    "\n",
    "The log-normal distribution also has relevance to Reliability Engineering. The lognormal distribution is commonly used to model the lives of units whose failure modes are of a fatigue-stress\n",
    "nature. Since this includes most, if not all, mechanical systems, the log normal distribution can have widespread\n",
    "application. *Ref* [Life Data Analysis Reference, http://reliawiki.org/index.php/Introduction_to_Life_Data_Analysis]"
   ]
  },
  {
   "cell_type": "code",
   "execution_count": 8,
   "metadata": {},
   "outputs": [
    {
     "name": "stderr",
     "output_type": "stream",
     "text": [
      "C:\\Users\\hugh_\\Anaconda3\\lib\\site-packages\\scipy\\stats\\stats.py:1713: FutureWarning: Using a non-tuple sequence for multidimensional indexing is deprecated; use `arr[tuple(seq)]` instead of `arr[seq]`. In the future this will be interpreted as an array index, `arr[np.array(seq)]`, which will result either in an error or a different result.\n",
      "  return np.add.reduce(sorted[indexer] * weights, axis=axis) / sumval\n"
     ]
    },
    {
     "data": {
      "text/plain": [
       "Text(0,0.5,'p(x)')"
      ]
     },
     "execution_count": 8,
     "metadata": {},
     "output_type": "execute_result"
    },
    {
     "data": {
      "image/png": "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\n",
      "text/plain": [
       "<matplotlib.figure.Figure at 0x235d501cb00>"
      ]
     },
     "metadata": {
      "needs_background": "light"
     },
     "output_type": "display_data"
    }
   ],
   "source": [
    "L = np.random.lognormal(3, 0.5, 20000) \n",
    "ax = sns.distplot(L, color = 'm',) #The 'distplot' seaborn function plots a log-normal distribution of observations and combines a hist plot with a probability density (seaborn.kdeplot) plot\n",
    "plt.title('Log Normal Distribution (pdf)')\n",
    "plt.xlabel('x variables')\n",
    "plt.ylabel('p(x)')"
   ]
  },
  {
   "cell_type": "code",
   "execution_count": 9,
   "metadata": {},
   "outputs": [
    {
     "name": "stderr",
     "output_type": "stream",
     "text": [
      "C:\\Users\\hugh_\\Anaconda3\\lib\\site-packages\\scipy\\stats\\stats.py:1713: FutureWarning: Using a non-tuple sequence for multidimensional indexing is deprecated; use `arr[tuple(seq)]` instead of `arr[seq]`. In the future this will be interpreted as an array index, `arr[np.array(seq)]`, which will result either in an error or a different result.\n",
      "  return np.add.reduce(sorted[indexer] * weights, axis=axis) / sumval\n"
     ]
    },
    {
     "data": {
      "text/plain": [
       "Text(0,0.5,'p(x)')"
      ]
     },
     "execution_count": 9,
     "metadata": {},
     "output_type": "execute_result"
    },
    {
     "data": {
      "image/png": "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\n",
      "text/plain": [
       "<matplotlib.figure.Figure at 0x235d50ef080>"
      ]
     },
     "metadata": {
      "needs_background": "light"
     },
     "output_type": "display_data"
    }
   ],
   "source": [
    "L = np.random.lognormal(3, 0.5, 20000) # log normal distribution of mean 3, sd 0.5 and range 20000\n",
    "\n",
    "#attempt to create a continuous distribution function of lognormal data\n",
    "CY = np.cumsum(L) #numulative sum of L: credit https://stackoverflow.com/questions/9378420/how-to-plot-cdf-in-matplotlib-in-python\n",
    "ax = sns.distplot(CY, color = 'b',) #The 'distplot' seaborn function plots a log-normal distribution of observations and combines a hist plot with a probability density (seaborn.kdeplot) plot\n",
    "plt.title('Log Normal Distribution as a cdf')\n",
    "plt.xlabel('x variables')\n",
    "plt.ylabel('p(x)')"
   ]
  },
  {
   "cell_type": "markdown",
   "metadata": {},
   "source": [
    "**The above code is an attempt to plot the cumulative frequency of the log normal distribution. Similar cumulative logarithmic relationships can be seen in nature in examples such as the growth rate of bacteria, with a log(growth), lag(steady) and death phase.**"
   ]
  },
  {
   "cell_type": "markdown",
   "metadata": {},
   "source": [
    "## The Normal Distribution"
   ]
  },
  {
   "cell_type": "markdown",
   "metadata": {},
   "source": [
    "The *numpy.random.normal(loc=0.0, scale=1.0, size=None)* creates a normal distribution of normal data. The normal distribution is one of the more commonly used distributions in statistics since it is representative of many common real world distributions such as test scores in an exams and industrial processes. The normal distribution may also be referred to as the 'bell curve' or 'Gaussian distribution' the latter in honor of the 18th-century physicist and mathematician Karl Gauss, who used this distribution to analyze astronomical data  *Ref* [Statistics in a nutshell, S. Boslaugh; P.A. Watters, O'Reilly]\n",
    "\n",
    "![img](https://upload.wikimedia.org/wikipedia/commons/e/ec/Carl_Friedrich_Gauss_1840_by_Jensen.jpg)\n",
    "\n",
    "\n",
    "The probability function  for the Normal Distribution is: \n",
    "\n",
    "$$p(x) \\sim N(\\mu|\\sigma^2) \\\\\\\\$$\n",
    "\n",
    "$$p(x) \\sim \\frac{1}{\\sqrt{2\\pi\\sigma^2}} \\exp{ \\bigg[-\\frac{1}{2}\\bigg( \\frac{x-\\mu}{\\sigma}\\bigg)^2 \\bigg] }$$\n",
    "\n",
    "Where: $\\mu$, $\\sigma$ = mean, sd"
   ]
  },
  {
   "cell_type": "code",
   "execution_count": 10,
   "metadata": {
    "scrolled": true
   },
   "outputs": [
    {
     "name": "stderr",
     "output_type": "stream",
     "text": [
      "C:\\Users\\hugh_\\Anaconda3\\lib\\site-packages\\scipy\\stats\\stats.py:1713: FutureWarning: Using a non-tuple sequence for multidimensional indexing is deprecated; use `arr[tuple(seq)]` instead of `arr[seq]`. In the future this will be interpreted as an array index, `arr[np.array(seq)]`, which will result either in an error or a different result.\n",
      "  return np.add.reduce(sorted[indexer] * weights, axis=axis) / sumval\n"
     ]
    },
    {
     "data": {
      "text/plain": [
       "Text(0,0.5,'p(x)')"
      ]
     },
     "execution_count": 10,
     "metadata": {},
     "output_type": "execute_result"
    },
    {
     "data": {
      "image/png": "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\n",
      "text/plain": [
       "<matplotlib.figure.Figure at 0x235d50ac588>"
      ]
     },
     "metadata": {
      "needs_background": "light"
     },
     "output_type": "display_data"
    }
   ],
   "source": [
    "M = np.random.normal(3, 0.5, 20000)# normal distribution of mean=3, sd=0.5 and range 20000\n",
    "ax = sns.distplot(M, color = 'g',) #The 'distplot' seaborn function plots a normal distribution of observations and combines a hist plot with a probability density (seaborn.kdeplot) plot\n",
    "plt.title('Normal Distribution')\n",
    "plt.xlabel('x variables')\n",
    "plt.ylabel('p(x)')"
   ]
  },
  {
   "cell_type": "markdown",
   "metadata": {},
   "source": [
    "**It can be seen in the above plot of the normal distribution that the probability density is at its highest at the mean and evenly distributed either side of the mean. The 'spread' of the distribution is dependent on the standard deviation**"
   ]
  },
  {
   "cell_type": "markdown",
   "metadata": {},
   "source": [
    "Applications of the normal distribution can be seen in the Operational Excellence Manufacturing model *Six Sigma* which aims to have less than 6 $\\sigma$ defects in a process, i.e. less than 6 standard deviations from the mean or 99.9997 % defect free *Ref* [https://en.wikipedia.org/wiki/Six_Sigma]\n",
    "\n",
    "The illustration below shows what occurs when a process varies by 1.5$\\sigma$s around the mean. The Lower and upper specification limit (LSL and USL) are at 6$\\sigma$s but a variation of 1.5$\\sigma$s will still keep the process in control.\n",
    "\n",
    "![img](https://upload.wikimedia.org/wikipedia/commons/a/a3/6_Sigma_Normal_distribution.svg)"
   ]
  },
  {
   "cell_type": "markdown",
   "metadata": {},
   "source": [
    "### **THE KOLMOGOROV-SMIRNOV TEST FOR NORMALITY**\n",
    "\n",
    "The following line of code uses the '*Kolmogorov-Smirnov*' Test for Normality which we use on our original random normal distribution, M above.\n",
    "\n",
    "A *p* value >0.05 means we can reject the null hypothesis that the data is not normally distributed. '*D*' is the test statistic i.e. the difference between the test data and a normal distribution (low in our case as expected). Since we have created a random normal distribution we expect our *p* value to be high. The Kolmogorov Smirnov test for normality is an important tool to be used on data, as the distribution of the data can affect further statistical analysis such as correlations, ANOVA's etc. *ref* [https://www.spss-tutorials.com/spss-kolmogorov-smirnov-test-for-normality/#test-statistic] \n",
    "\n",
    "The Kolmogorov-Smirnov test may also be used to test for other types of data distributions but is more commonly used on normally data distributed data sets. It is an important test which is typically carried out after the data has been visualised graphically. Graphical representation of the data provides clues to its distribution characteristics e.g. symmetry, and is an aid to decide which kind of transformations may be necessary."
   ]
  },
  {
   "cell_type": "code",
   "execution_count": 11,
   "metadata": {},
   "outputs": [
    {
     "name": "stdout",
     "output_type": "stream",
     "text": [
      "KS-statistic D =  0.005 pvalue = 0.7534\n"
     ]
    }
   ],
   "source": [
    "#The Kolmogorov-Smirnov test used to test for, in the case a normal distribution\n",
    "d, pval = stats.kstest((M-M.mean())/M.std(), 'norm') # determines the test statistic determination\n",
    "print('KS-statistic D = %6.3f pvalue = %6.4f' % (d, pval)) #prints the KS-statistic and p value"
   ]
  },
  {
   "cell_type": "markdown",
   "metadata": {},
   "source": [
=======
    "### **DATA TRANSFORMATIONS\n",
    "\n",
    "After testing the data for normality, for no-normal data it may be possible to transform the data to make it more 'normal' in order to perform parametric statistics. Square root or log transformations are examples of these types of transformation. It must be noted however that insights gained on transformed data subjected to statistical techniques must be interpreted in the context of what transformations have been carried out *Ref* [Statistics in a nutshell, Boslaugh, S; Watters, P.A., O'Reilly]  
   ]
  },
  {
   "cell_type": "markdown",
   "metadata": {},
   "source": [
    "## THE RANDOM BINOMIAL DISTRIBUTION"
   ]
  },
  {
   "cell_type": "markdown",
   "metadata": {},
   "source": [
    "The *numpy.random.binomial(n, p, size=None)* function creates a random binomial function. Wikipedia tells us that the binomial distribution is representative of the probability, *p* of a series of 'successes' in a number *n* of trials in an experiment which can have two possible outcomes ('success' or 'failure'). *ref*[https://en.wikipedia.org/wiki/Binomial_distribution]\n",
    "\n",
    "A number of assumptions need to be valid in order for an experiment to be considered binomial:\n",
    "    * The experiment has two possible outcomes (A random trial with two possible outcomes is known as a *Bernouilli experiment*)\n",
    "    * The trials in the experiment are independent\n",
    "    * The probability of a success in each trial is constant\n",
    "    \n",
    "Where *n* = No. of trials and *x* is number of successes\n",
    "\n",
    "The probability Mass Function of x is:\n",
    "    \n",
    "$$p(x) = {\\binom{n}{x}}{p^x(1-p)^{n-x}}$$  x= 0,1,2...\n",
    "\n",
    "given *p* and *n* is 1,2.....\n",
    "\n",
    "*Ref* [Applied Statistics and Probability for Engineers, Montgomery, D.C.; Runger, G.C.]\n",
    "\n",
    "The binomial distribution can be used to describe many different types of real life data such as coin flips 'heads' or 'tails' or 'pass' 'fail' for exam results, where one of two outcomes is possible [Statistics in a nutshell, Boslaugh, S; Watters, P.A., O'Reilly]\n",
    "      "
   ]
  },
  {
   "cell_type": "code",
   "execution_count": 12,
   "metadata": {},
   "outputs": [
    {
     "name": "stderr",
     "output_type": "stream",
     "text": [
      "C:\\Users\\hugh_\\Anaconda3\\lib\\site-packages\\scipy\\stats\\stats.py:1713: FutureWarning: Using a non-tuple sequence for multidimensional indexing is deprecated; use `arr[tuple(seq)]` instead of `arr[seq]`. In the future this will be interpreted as an array index, `arr[np.array(seq)]`, which will result either in an error or a different result.\n",
      "  return np.add.reduce(sorted[indexer] * weights, axis=axis) / sumval\n"
     ]
    },
    {
     "data": {
      "text/plain": [
       "Text(0,0.5,'p(x)')"
      ]
     },
     "execution_count": 12,
     "metadata": {},
     "output_type": "execute_result"
    },
    {
     "data": {
      "image/png": "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\n",
      "text/plain": [
       "<matplotlib.figure.Figure at 0x235d52d02e8>"
      ]
     },
     "metadata": {
      "needs_background": "light"
     },
     "output_type": "display_data"
    }
   ],
   "source": [
    "B = np.random.binomial(20, 0.5, 20000)# binomial distribution of 20000 trials, p=0.5 and number of successes = 20 \n",
    "sns.distplot(B, color = 'r', bins=50); #histogram and kde plot\n",
    "plt.title('Binomial Distribution')\n",
    "plt.xlabel('x variables')\n",
    "plt.ylabel('p(x)')"
   ]
  },
  {
   "cell_type": "markdown",
   "metadata": {},
   "source": [
    "**In the above plot the distribution is symmetrical as p = 0.5. The distributions symmetry becomes greater with an increased number of trials**"
   ]
  },
  {
   "cell_type": "markdown",
   "metadata": {},
   "source": [
    "The code below outputs some summary statistics on our binomial distribution. skewness and kurtosis in particular are useful measures to describe the nature of our binomial distribution. both are low in our data set as it can be seen that the data set is highly symmetrical.\n",
    "\n",
    "Skewness is a measure of the lack of symmetry of a distribution and kurtosis is the fronting or tailing of a distribution: *Ref* [https://www.itl.nist.gov/div898/handbook/eda/section3/eda35b.htm]"
   ]
  },
  {
   "cell_type": "code",
   "execution_count": 13,
   "metadata": {},
   "outputs": [
    {
     "data": {
      "text/plain": [
       "DescribeResult(nobs=20000, minmax=(2, 18), mean=10.02715, variance=5.0354646507325365, skewness=-0.001131825120298909, kurtosis=-0.11019590191796036)"
      ]
     },
     "execution_count": 13,
     "metadata": {},
     "output_type": "execute_result"
    }
   ],
   "source": [
    "AR = np.array(B) #Creates a numpy array of the random binomial dataset\n",
    "stats.describe(AR)#outputs summary statistics"
   ]
  },
  {
   "cell_type": "markdown",
   "metadata": {},
   "source": [
    "## RANDOM SEEDS"
   ]
  },
  {
   "cell_type": "markdown",
   "metadata": {},
   "source": [
    "### PSEUDORANDOM NUMBERS\n",
    "\n",
    "The generation of random numbers used in algorithms and machine learning is achieved using a pseudorandom number generators which appear random but are created using a deterministic process. These random numbers are generated in a sequence and are seeded with an initial number.\n"
   ]
  },
  {
   "cell_type": "markdown",
   "metadata": {},
   "source": [
    "*The numpy.random.RandomState* Function uses the Mersenne Twister pseudorandom number generator.\n",
    "\n",
    "The Mersenne Twister pseudorandom number generator is so called because its period is chosen from a Mersenne prime. A Mersenne prime is a prime number that is one less than a power of two. That is, it is a prime number of the form $$Mn = {2^n − 1}$$ for some integer *n*. They are named after Marin Mersenne, a French Minim friar, who studied them in the early 17th century.\n",
    "\n",
    "The most commonly used versions of the Mersenne twister are $2^{19937-1}$ using a 32 or 64 bit length. \n",
    "\n",
    "The seed used to generate the random number can be any number from 0 to $2^{32-1}$, or generated by the PC clock."
   ]
  },
  {
   "cell_type": "markdown",
   "metadata": {},
   "source": [
    "The *numpy.random.seed* function is called automatically to seed the generator for *random.state* and may be called again to re-seed the generator"
   ]
  },
  {
   "cell_type": "markdown",
   "metadata": {},
   "source": [
    "*numpy.random.get_state* Function outputs the internal state of the Mersenne Twister pseudorandom number generator\n",
    "*numpy.random.set_state* Function sets the internal state of the Mersenne Twister pseudorandom number generator\n"
   ]
  },
  {
   "cell_type": "markdown",
   "metadata": {},
   "source": [
    "Seeds are used to initialise the creation of random numbers. They themselves are not the initial random number but set the point at which the random numbers are generated depending on the algorithm (like the Meresnne Twister) used to generate them. The choice of seed is crucial to computer security as it is the key to knowing the sequence of random numbers generated. Systems deliberately sharing seeds enables them to synchronise. \n",
    "*Ref* [https://en.wikipedia.org/wiki/Random_seed] "
   ]
  }
 ],
 "metadata": {
  "kernelspec": {
   "display_name": "Python 3",
   "language": "python",
   "name": "python3"
  },
  "language_info": {
   "codemirror_mode": {
    "name": "ipython",
    "version": 3
   },
   "file_extension": ".py",
   "mimetype": "text/x-python",
   "name": "python",
   "nbconvert_exporter": "python",
   "pygments_lexer": "ipython3",
   "version": "3.6.6"
  }
 },
 "nbformat": 4,
 "nbformat_minor": 2
}
